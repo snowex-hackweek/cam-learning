{
 "cells": [
  {
   "cell_type": "markdown",
   "id": "double-geneva",
   "metadata": {},
   "source": [
    "# Regression model for snow depth in time lapse images\n",
    "\n",
    "SnowEx Hackweek 2021 \n",
    "\n",
    "*#cam_learning*\n",
    "\n",
    "__Contributors:__ Marianne Cowherd, Danny Hogan, Katie Breen, Ching-ping Yu"
   ]
  },
  {
   "cell_type": "markdown",
   "id": "rubber-constraint",
   "metadata": {},
   "source": [
    "### __Objectives:__\n",
    "\n",
    "- Train a regression model for extracting snow depth from time-lapse imagery using supervised learning\n",
    "- Evaluate model for accuracy \n",
    "- Test potential improvemnts (i.e. cropping images) and suggest ideas for next steps\n",
    "- Learn ML!"
   ]
  },
  {
   "cell_type": "markdown",
   "id": "spanish-hands",
   "metadata": {},
   "source": [
    "### __Motivations:__\n",
    "\n",
    "- 2020 SnowEx time-lapse imagery was labeled for snow-depth, but the process was time-consuming. \n",
    "- Automated methods exist using color thresholding and the Hough Transform, but background pixels add uncertainty.\n",
    "- Computer vision may be able to detect the pole without including the background noise, and identify the snow depth information \n",
    "- 2017 SnowEx time-lapse has not been labeled, and a working ML model could be applied on these images"
   ]
  },
  {
   "cell_type": "markdown",
   "id": "sticky-lotus",
   "metadata": {},
   "source": [
    "### __Methods__\n",
    "\n",
    "We will use the 2020 SnowEx timelapse from one camera (W1A) as our predictor and the corresponding snow depth measurements in the SnowEx SQL database as the response, to build a supervised model."
   ]
  },
  {
   "cell_type": "markdown",
   "id": "overhead-smith",
   "metadata": {},
   "source": [
    "__1) Load packages for image and data table pre-processing, model development, and model evaluation__"
   ]
  },
  {
   "cell_type": "code",
   "execution_count": 2,
   "id": "found-stylus",
   "metadata": {},
   "outputs": [
    {
     "name": "stdout",
     "output_type": "stream",
     "text": [
      "  Package                     Version  Build               Channel                    Size\n",
      "────────────────────────────────────────────────────────────────────────────────────────────\n",
      "  Install:\n",
      "────────────────────────────────────────────────────────────────────────────────────────────\n",
      "\n",
      "\u001b[32m  _tflow_select          \u001b[00m       2.3.0  mkl                 pkgs/main/linux-64         2 KB\n",
      "\u001b[32m  abseil-cpp             \u001b[00m  20200923.3  h9c3ff4c_0          conda-forge/linux-64     955 KB\n",
      "\u001b[32m  absl-py                \u001b[00m      0.13.0  pyhd8ed1ab_0        conda-forge/noarch        97 KB\n",
      "\u001b[32m  astor                  \u001b[00m       0.8.1  pyh9f0ad1d_0        conda-forge/noarch        25 KB\n",
      "\u001b[32m  astunparse             \u001b[00m       1.6.3  pyhd8ed1ab_0        conda-forge/noarch        15 KB\n",
      "\u001b[32m  dataclasses            \u001b[00m         0.8  pyhc8e2a94_1        conda-forge/noarch         7 KB\n",
      "\u001b[32m  flatbuffers            \u001b[00m       2.0.0  h9c3ff4c_0          conda-forge/linux-64       1 MB\n",
      "\u001b[32m  gast                   \u001b[00m       0.4.0  pyh9f0ad1d_0        conda-forge/noarch        12 KB\n",
      "\u001b[32m  google-pasta           \u001b[00m       0.2.0  pyh8c360ce_0        conda-forge/noarch        42 KB\n",
      "\u001b[32m  grpcio                 \u001b[00m      1.38.1  py38hdd6454d_0      conda-forge/linux-64       2 MB\n",
      "\u001b[32m  keras-preprocessing    \u001b[00m       1.1.2  pyhd8ed1ab_0        conda-forge/noarch        34 KB\n",
      "\u001b[32m  libprotobuf            \u001b[00m      3.14.0  h780b84a_0          conda-forge/linux-64       2 MB\n",
      "\u001b[32m  opt_einsum             \u001b[00m       3.3.0  pyhd8ed1ab_1        conda-forge/noarch        53 KB\n",
      "\u001b[32m  protobuf               \u001b[00m      3.14.0  py38h709712a_1      conda-forge/linux-64     348 KB\n",
      "\u001b[32m  python-flatbuffers     \u001b[00m        1.12  pyhd8ed1ab_1        conda-forge/noarch        19 KB\n",
      "\u001b[32m  tensorboard            \u001b[00m       2.5.0  pyhd8ed1ab_0        conda-forge/noarch         5 MB\n",
      "\u001b[32m  tensorboard-data-server\u001b[00m       0.6.0  py38h2b97feb_0      conda-forge/linux-64       3 MB\n",
      "\u001b[32m  tensorboard-plugin-wit \u001b[00m       1.8.0  pyh44b312d_0        conda-forge/noarch       670 KB\n",
      "\u001b[32m  tensorflow             \u001b[00m       2.5.0  mkl_py38hce4fbe1_0  pkgs/main/linux-64         4 KB\n",
      "\u001b[32m  tensorflow-base        \u001b[00m       2.5.0  mkl_py38h35b2a3d_0  pkgs/main/linux-64        76 MB\n",
      "\u001b[32m  tensorflow-estimator   \u001b[00m       2.5.0  pyh81a9013_1        conda-forge/noarch       289 KB\n",
      "\u001b[32m  termcolor              \u001b[00m       1.1.0  py_2                conda-forge/noarch         6 KB\n",
      "\u001b[32m  werkzeug               \u001b[00m       2.0.1  pyhd8ed1ab_0        conda-forge/noarch       219 KB\n",
      "\n",
      "  Upgrade:\n",
      "────────────────────────────────────────────────────────────────────────────────────────────\n",
      "\n",
      "\u001b[31m  ca-certificates        \u001b[00m   2020.12.5  ha878542_0          installed                      \n",
      "\u001b[32m  ca-certificates        \u001b[00m    2021.7.5  h06a4308_1          pkgs/main/linux-64       113 KB\n",
      "\u001b[31m  certifi                \u001b[00m   2020.12.5  py38h578d9bd_1      installed                      \n",
      "\u001b[32m  certifi                \u001b[00m   2021.5.30  py38h578d9bd_0      conda-forge/linux-64     141 KB\n",
      "\u001b[31m  sqlite                 \u001b[00m      3.34.0  h74cdb3f_0          installed                      \n",
      "\u001b[32m  sqlite                 \u001b[00m      3.36.0  h9cd32fc_0          conda-forge/linux-64       1 MB\n",
      "\n",
      "  Downgrade:\n",
      "────────────────────────────────��───────────────────────────────────────────────────────────\n",
      "\n",
      "\u001b[31m  google-auth-oauthlib   \u001b[00m       0.4.4  pyhd8ed1ab_0        installed                      \n",
      "\u001b[32m  google-auth-oauthlib   \u001b[00m       0.4.1  py_2                conda-forge/noarch        18 KB\n",
      "\u001b[31m  wheel                  \u001b[00m      0.36.2  pyhd3deb0d_0        installed                      \n",
      "\u001b[32m  wheel                  \u001b[00m      0.35.1  pyh9f0ad1d_0        conda-forge/noarch        29 KB\n",
      "\n",
      "  Summary:\n",
      "\n",
      "  Install: 23 packages\n",
      "  Upgrade: 3 packages\n",
      "  Downgrade: 2 packages\n",
      "\n",
      "  Total download: 95 MB\n",
      "\n",
      "────────────────────────────────────────────────────────────────────────────────────────────\n",
      "\n",
      "Preparing transaction: ...working... done\n",
      "Verifying transaction: ...working... done\n",
      "Executing transaction: ...working... done\n",
      "Collecting opencv-python-headless\n",
      "  Using cached opencv_python_headless-4.5.3.56-cp38-cp38-manylinux2014_x86_64.whl (37.1 MB)\n",
      "Requirement already satisfied: numpy>=1.17.3 in /srv/conda/envs/notebook/lib/python3.8/site-packages (from opencv-python-headless) (1.21.0)\n",
      "Installing collected packages: opencv-python-headless\n",
      "Successfully installed opencv-python-headless-4.5.3.56\n"
     ]
    }
   ],
   "source": [
    "# NOTE: this part of the tutorial uses additional libraries not in the default snowex jupyterhub\n",
    "# mamba is a python package management alternative to conda and pip https://github.com/mamba-org/mamba\n",
    "!mamba install -y -q tensorflow\n",
    "!pip install opencv-python-headless "
   ]
  },
  {
   "cell_type": "code",
   "execution_count": 3,
   "id": "peripheral-leather",
   "metadata": {},
   "outputs": [],
   "source": [
    "\n",
    "#### Load packages for machine learning\n",
    "import tensorflow as tf  # end-to-end open source platform for machine learning\n",
    "\n",
    "# from tensorflow.keras.datasets import cifar10\n",
    "# keras is python and uses tensorflow in the backend\n",
    "from tensorflow.keras.models import Sequential\n",
    "from tensorflow.keras.layers import Dense, Flatten, Conv2D\n",
    "from tensorflow.keras.losses import sparse_categorical_crossentropy\n",
    "from tensorflow.keras.optimizers import Adam\n",
    "from sklearn.preprocessing import MinMaxScaler\n",
    "from sklearn.metrics import mean_squared_error, r2_score, mean_absolute_percentage_error\n",
    "\n",
    "#### Packages for image processing and computer vision \n",
    "import pandas as pd\n",
    "import numpy as np\n",
    "import os\n",
    "import matplotlib.pyplot as plt\n",
    "import cv2\n",
    "import geopandas as gpd\n",
    "import datetime as dt\n",
    "from datetime import datetime\n",
    "\n",
    "from sklearn.model_selection import train_test_split\n",
    "from PIL import Image\n",
    "from PIL import Image, ExifTags\n",
    "\n",
    "### Packages for processing snow depth values using the SnowEx SQL database \n",
    "from snowexsql.db import get_table_attributes\n",
    "\n",
    "import snowexsql.db\n",
    "from snowexsql.data import PointData, SiteData\n",
    "from snowexsql.conversions import query_to_geopandas\n",
    "# Import the function to get connect to the db\n",
    "from snowexsql.db import get_db\n",
    "\n",
    "# This is what you will use for all of hackweek to access the db\n",
    "db_name = 'snow:hackweek@52.32.183.144/snowex'\n",
    "engine, session = get_db(db_name)\n",
    "\n",
    "import piexif\n",
    "wd = os.getcwd()\n"
   ]
  },
  {
   "cell_type": "markdown",
   "id": "individual-cross",
   "metadata": {},
   "source": [
    "__2. After loading the packages, we will load in the images from the Amazon Web Services S3. We will focus on one camera, W1A.__ "
   ]
  },
  {
   "cell_type": "code",
   "execution_count": 4,
   "id": "exact-fleece",
   "metadata": {},
   "outputs": [],
   "source": [
    "%%capture\n",
    "!aws s3 sync --no-progress s3://snowex-data/tutorial-data/camera-trap/ /tmp/camera-trap"
   ]
  },
  {
   "cell_type": "code",
   "execution_count": 5,
   "id": "electronic-might",
   "metadata": {},
   "outputs": [],
   "source": [
    "## Load in the images \n",
    "filepath = '/tmp/camera-trap/W1A'\n",
    "files = os.listdir(filepath)\n",
    "files =  [filepath + '/' + str(f) for f in files]\n",
    "image_data=[]\n",
    "\n",
    "df = pd.DataFrame([],\n",
    "                   columns=['date','photo_id','time','datetime','depth'])\n",
    "\n",
    "for i in range(0,len(files)): \n",
    "    \n",
    "    img = Image.open(files[i])\n",
    "    exif = { ExifTags.TAGS[k]: v for k, v in img._getexif().items() if k in ExifTags.TAGS }\n",
    "    exif['DateTime'] = datetime.strptime(exif['DateTime'],'%Y:%m:%d %H:%M:%S')\n",
    "    df.loc[i]= [exif['DateTime'].date(),\n",
    "                       files[i],\n",
    "                       exif['DateTime'].time(),exif['DateTime'],np.nan]\n",
    "    \n",
    "\n",
    "for i,file in enumerate(files):\n",
    "    # open image file and extract metadat\n",
    "    img = Image.open(file) \n",
    "    exif = { ExifTags.TAGS[k]: v for k, v in img._getexif().items() if k in ExifTags.TAGS }\n",
    "    # convert date and time to datetime\n",
    "    exif['DateTime'] = datetime.strptime(exif['DateTime'],'%Y:%m:%d %H:%M:%S')\n",
    "    # append list of tuples (not sure if this is any more efficient)\n",
    "    image_data.append((exif['DateTime'].date(), file, exif['DateTime']))\n",
    "# create image dataframe    "
   ]
  },
  {
   "cell_type": "code",
   "execution_count": null,
   "id": "hundred-concern",
   "metadata": {},
   "outputs": [],
   "source": []
  },
  {
   "cell_type": "markdown",
   "id": "dietary-blink",
   "metadata": {},
   "source": [
    "__3. Read in the images using cv2's imread function, then downscale the images to 200 x 200 pixels. 'pixels' is a list of all the images represented as an RGB array.__"
   ]
  },
  {
   "cell_type": "code",
   "execution_count": 6,
   "id": "parental-release",
   "metadata": {},
   "outputs": [
    {
     "name": "stdout",
     "output_type": "stream",
     "text": [
      "(659, 200, 200, 3)\n"
     ]
    }
   ],
   "source": [
    "pixels = []      \n",
    "for i in range(0, len(df)):\n",
    "    path = df['photo_id'][i]\n",
    "    src = cv2.imread(path, cv2.IMREAD_UNCHANGED)  # imread defaults to BGR order when reading pictures, for a reason?\n",
    "    width =200\n",
    "    height = 200 \n",
    "    dsize = (width, height)\n",
    "    # resize image\n",
    "    output = cv2.resize(src, dsize)\n",
    "    cv2.imwrite('tmp.jpg',output) \n",
    "    img2 = cv2.imread('tmp.jpg')\n",
    "    img2 = cv2.cvtColor(img2,cv2.COLOR_BGR2RGB)  # so we convert it back to RGB\n",
    "    pixels.append(np.array(img2))\n",
    "\n",
    "pixels = np.array(pixels)\n",
    "print(pixels.shape) \n",
    "np.save('pixels_open.npy',pixels)\n",
    "#print(pixels)\n"
   ]
  },
  {
   "cell_type": "code",
   "execution_count": 7,
   "id": "vital-permit",
   "metadata": {},
   "outputs": [],
   "source": [
    "pixels=np.load('pixels_open.npy')"
   ]
  },
  {
   "cell_type": "markdown",
   "id": "elegant-amazon",
   "metadata": {},
   "source": [
    "__4. Pull the snow depth values from the SnowEx SQL database__\n",
    "\n",
    "In this case, we pulled all the data from the snow depth data from camera W1A."
   ]
  },
  {
   "cell_type": "code",
   "execution_count": 8,
   "id": "romance-murder",
   "metadata": {},
   "outputs": [
    {
     "name": "stderr",
     "output_type": "stream",
     "text": [
      "<ipython-input-8-7d01733e6cfc>:30: SettingWithCopyWarning: \n",
      "A value is trying to be set on a copy of a slice from a DataFrame\n",
      "\n",
      "See the caveats in the documentation: https://pandas.pydata.org/pandas-docs/stable/user_guide/indexing.html#returning-a-view-versus-a-copy\n",
      "  df['depth'][i] = df_open['value'][idx]\n"
     ]
    }
   ],
   "source": [
    "# Use the function to see what columns are available to use. \n",
    "db_columns = get_table_attributes(PointData)\n",
    "\n",
    "# Grab the open site data from the db\n",
    "open_site = 'W1A'\n",
    "qry = session.query(PointData).filter(PointData.equipment.contains(open_site))\n",
    "df_open = query_to_geopandas(qry,engine)\n",
    "\n",
    "# Matach the time from the images to the depth in the database\n",
    "df = pd.DataFrame([],\n",
    "                   columns=['date','photo_id','time','datetime','depth'])\n",
    "for i in range(0,len(files)): \n",
    "    \n",
    "    img = Image.open(files[i])\n",
    "    exif = { ExifTags.TAGS[k]: v for k, v in img._getexif().items() if k in ExifTags.TAGS }\n",
    "    exif['DateTime'] = datetime.strptime(exif['DateTime'],'%Y:%m:%d %H:%M:%S')\n",
    "    df.loc[i]= [exif['DateTime'].date(),\n",
    "                       files[i],\n",
    "                       exif['DateTime'].time(),exif['DateTime'],np.nan]\n",
    "    \n",
    "df_open['datetime'] = [datetime.combine(df_open['date'][i],df_open['time'][i]).replace(tzinfo=None) for i in range(len(df_open))]  # make the datetimes have the same time zone info\n",
    "\n",
    "\n",
    "for i in range(len(df)):\n",
    "    pivot = df['datetime'][i]\n",
    "    items = df_open['datetime']\n",
    "    tmp = np.where(items==pivot)[0]\n",
    "    if len(np.where(items==pivot)[0])>0:\n",
    "        idx = tmp[0]\n",
    "        df['depth'][i] = df_open['value'][idx]\n",
    "  "
   ]
  },
  {
   "cell_type": "code",
   "execution_count": 9,
   "id": "literary-great",
   "metadata": {},
   "outputs": [
    {
     "data": {
      "text/plain": [
       "319"
      ]
     },
     "execution_count": 9,
     "metadata": {},
     "output_type": "execute_result"
    }
   ],
   "source": [
    "len(df.loc[df['depth']>0]) # remaining matched values"
   ]
  },
  {
   "cell_type": "code",
   "execution_count": 10,
   "id": "gentle-ready",
   "metadata": {},
   "outputs": [
    {
     "data": {
      "text/plain": [
       "[<matplotlib.lines.Line2D at 0x7f51ce224dc0>]"
      ]
     },
     "execution_count": 10,
     "metadata": {},
     "output_type": "execute_result"
    },
    {
     "data": {
      "image/png": "[encoded data removed]",
      "text/plain": [
       "<Figure size 432x288 with 1 Axes>"
      ]
     },
     "metadata": {
      "needs_background": "light"
     },
     "output_type": "display_data"
    }
   ],
   "source": [
    "plt.plot(df['datetime'],df['depth'],'o')"
   ]
  },
  {
   "cell_type": "markdown",
   "id": "cognitive-caribbean",
   "metadata": {},
   "source": [
    "__5. We will do the same as before but this time with cropped images. We will compare our results between the full images and the cropped images.__\n",
    "\n",
    "We will collapse the code to save space. "
   ]
  },
  {
   "cell_type": "code",
   "execution_count": 11,
   "id": "committed-slovakia",
   "metadata": {},
   "outputs": [],
   "source": [
    "site_loc='W1A'\n",
    "os.chdir('/home/jovyan/cam-learning/data')\n",
    "wd = os.getcwd()\n",
    "for filename in os.listdir('/tmp/camera-trap/'+site_loc):\n",
    "    inpath = '/tmp/camera-trap/'+site_loc+'/'+filename\n",
    "    outpath = f'/cropped/{site_loc}/'.join([wd,filename])\n",
    "    #if path not in list(df['photo_id']):\n",
    "    #    os.remove(path)\n",
    "    #else:\n",
    "    im = Image.open(inpath)\n",
    "\n",
    "    #load exif data\n",
    "    exif_dict = piexif.load(im.info[\"exif\"])\n",
    "    exif_bytes = piexif.dump(exif_dict)\n",
    "\n",
    "    width, height = im.size\n",
    "    # Setting the points for cropped image\n",
    "    if site_loc == 'W1A':\n",
    "        left = 3000\n",
    "        top = 50\n",
    "        right = 3400\n",
    "        bottom = 0.63*height\n",
    "    elif site_loc == 'W9A':\n",
    "        left = 2100\n",
    "        top = 150\n",
    "        right = 2500\n",
    "        bottom = height - 500\n",
    "    else: break\n",
    "\n",
    "    # Cropped image of above dimension\n",
    "    # (It will not change original image)\n",
    "    im = im.crop((left, top, right, bottom))\n",
    "\n",
    "    # Save cropped images with exif data\n",
    "    im.save(outpath, exif = exif_bytes)"
   ]
  },
  {
   "cell_type": "code",
   "execution_count": 12,
   "id": "korean-picking",
   "metadata": {},
   "outputs": [
    {
     "name": "stderr",
     "output_type": "stream",
     "text": [
      "<ipython-input-12-11cdc4b67c83>:23: SettingWithCopyWarning: \n",
      "A value is trying to be set on a copy of a slice from a DataFrame\n",
      "\n",
      "See the caveats in the documentation: https://pandas.pydata.org/pandas-docs/stable/user_guide/indexing.html#returning-a-view-versus-a-copy\n",
      "  df_cropped['depth'][i] = df_open['value'][idx]\n",
      "<ipython-input-12-11cdc4b67c83>:72: SettingWithCopyWarning: \n",
      "A value is trying to be set on a copy of a slice from a DataFrame\n",
      "\n",
      "See the caveats in the documentation: https://pandas.pydata.org/pandas-docs/stable/user_guide/indexing.html#returning-a-view-versus-a-copy\n",
      "  df_cropped['depth'][i] = df_open['value'][idx]\n"
     ]
    }
   ],
   "source": [
    "import glob\n",
    "filepath = '/home/jovyan/cam-learning/data/cropped/W1A/'\n",
    "cropped_files = glob.glob(filepath + '*.JPG')\n",
    "# cropped_files = os.listdir('/home/jovyan/cam-learning/data/cropped/W1A/')\n",
    "# cropped_files =  ['/home/jovyan/cam-learning/data/cropped/W1A/' + str(f) for f in cropped_files]\n",
    "\n",
    "df_cropped = pd.DataFrame([],\n",
    "                   columns=['date','photo_id','time','datetime','depth'])\n",
    "for i in range(0,len(cropped_files)): \n",
    "    \n",
    "    cropped_img = Image.open(cropped_files[i])\n",
    "    exif = { ExifTags.TAGS[k]: v for k, v in cropped_img._getexif().items() if k in ExifTags.TAGS }\n",
    "    exif['DateTime'] = datetime.strptime(exif['DateTime'],'%Y:%m:%d %H:%M:%S')\n",
    "    df_cropped.loc[i]= [exif['DateTime'].date(),\n",
    "                       cropped_files[i],\n",
    "                       exif['DateTime'].time(),exif['DateTime'],np.nan]\n",
    "for i in range(len(df_cropped)):\n",
    "    pivot = df_cropped['datetime'][i]\n",
    "    items = df_open['datetime']\n",
    "    tmp = np.where(items==pivot)[0]\n",
    "    if len(np.where(items==pivot)[0])>0:\n",
    "        idx = tmp[0]\n",
    "        df_cropped['depth'][i] = df_open['value'][idx]\n",
    "\n",
    "pixels_cropped = []      \n",
    "for i in range(0, len(df_cropped)):\n",
    "    path = df_cropped['photo_id'][i]\n",
    "    src = cv2.imread(path, cv2.IMREAD_UNCHANGED)\n",
    "    width =200 \n",
    "    height = 200 \n",
    "    # dsize\n",
    "    dsize = (width, height)\n",
    "    # resize image\n",
    "    output = cv2.resize(src, dsize)\n",
    "    cv2.imwrite('tmp.jpg',output) \n",
    "    cropped_img2 = cv2.imread('tmp.jpg')\n",
    "    cropped_img2 = cv2.cvtColor(img2,cv2.COLOR_BGR2RGB)\n",
    "    pixels_cropped.append(np.array(cropped_img2))\n",
    "\n",
    "pixels_cropped = np.array(pixels_cropped)\n",
    "# pixels_cropped =np.load('pixels_cropped_open.npy')\n",
    "\n",
    "# Use the function to see what columns are available to use. \n",
    "db_columns = get_table_attributes(PointData)\n",
    "\n",
    "# Grab the open site data from the db\n",
    "open_site = 'W1A'\n",
    "qry = session.query(PointData).filter(PointData.equipment.contains(open_site))\n",
    "df_open = query_to_geopandas(qry,engine)\n",
    "\n",
    "# Matach the time from the images to the depth in the database\n",
    "df_cropped = pd.DataFrame([],\n",
    "                   columns=['date','photo_id','time','datetime','depth'])\n",
    "for i in range(0,len(files)): \n",
    "    \n",
    "    img = Image.open(files[i])\n",
    "    exif = { ExifTags.TAGS[k]: v for k, v in img._getexif().items() if k in ExifTags.TAGS }\n",
    "    exif['DateTime'] = datetime.strptime(exif['DateTime'],'%Y:%m:%d %H:%M:%S')\n",
    "    df_cropped.loc[i]= [exif['DateTime'].date(),\n",
    "                       files[i],\n",
    "                       exif['DateTime'].time(),exif['DateTime'],np.nan]\n",
    "    \n",
    "df_open['datetime'] = [datetime.combine(df_open['date'][i],df_open['time'][i]).replace(tzinfo=None) for i in range(len(df_open))]\n",
    "\n",
    "\n",
    "for i in range(len(df_cropped)):\n",
    "    pivot = df_cropped['datetime'][i]\n",
    "    items = df_open['datetime']\n",
    "    tmp = np.where(items==pivot)[0]\n",
    "    if len(np.where(items==pivot)[0])>0:\n",
    "        idx = tmp[0]\n",
    "        df_cropped['depth'][i] = df_open['value'][idx]"
   ]
  },
  {
   "cell_type": "markdown",
   "id": "funky-count",
   "metadata": {},
   "source": [
    "\n",
    "## save pixels for cropped images"
   ]
  },
  {
   "cell_type": "code",
   "execution_count": 13,
   "id": "adjacent-theorem",
   "metadata": {},
   "outputs": [
    {
     "name": "stdout",
     "output_type": "stream",
     "text": [
      "(659, 200, 200, 3)\n"
     ]
    }
   ],
   "source": [
    "pixels_cropped = []      \n",
    "for i in range(0, len(df)):\n",
    "    path = df_cropped['photo_id'][i]\n",
    "    src = cv2.imread(path, cv2.IMREAD_UNCHANGED)  # imread defaults to BGR order when reading pictures, for a reason?\n",
    "    width =100\n",
    "    height = 200 \n",
    "    dsize = (width, height)\n",
    "    # resize image\n",
    "    output = cv2.resize(src, dsize)\n",
    "    cv2.imwrite('tmp.jpg',output) \n",
    "    img2 = cv2.imread('tmp.jpg')\n",
    "    img2 = cv2.cvtColor(img2,cv2.COLOR_BGR2RGB)  # so we convert it back to RGB\n",
    "    pixels_cropped.append(np.array(img2))\n",
    "\n",
    "pixels_cropped = np.array(pixels_cropped)\n",
    "print(pixels.shape) \n",
    "np.save('pixels_open_cropped.npy',pixels)\n",
    "#print(pixels)\n"
   ]
  },
  {
   "cell_type": "markdown",
   "id": "whole-playing",
   "metadata": {},
   "source": [
    "__6. Flattening pixels data in a table.__"
   ]
  },
  {
   "cell_type": "code",
   "execution_count": 14,
   "id": "consolidated-baking",
   "metadata": {},
   "outputs": [
    {
     "name": "stderr",
     "output_type": "stream",
     "text": [
      "<ipython-input-14-a04f2abfacae>:3: RuntimeWarning: invalid value encountered in greater\n",
      "  dataset_cropped=dataset_cropped[dataset_cropped[:,-1]>0]\n"
     ]
    }
   ],
   "source": [
    "dataset_cropped = pixels_cropped.reshape((659,-1))\n",
    "dataset_cropped = np.concatenate((dataset_cropped, np.array(df_cropped['depth']).reshape((659,1))),axis=1)\n",
    "dataset_cropped=dataset_cropped[dataset_cropped[:,-1]>0]\n",
    "dataset_cropped = pd.DataFrame(dataset_cropped)\n",
    "np.save('dataset_open_cropped.npy', dataset_cropped)\n"
   ]
  },
  {
   "cell_type": "code",
   "execution_count": 15,
   "id": "excited-program",
   "metadata": {},
   "outputs": [
    {
     "name": "stderr",
     "output_type": "stream",
     "text": [
      "<ipython-input-15-3c3b23ea495a>:3: RuntimeWarning: invalid value encountered in greater\n",
      "  dataset=dataset[dataset[:,-1]>0]\n"
     ]
    }
   ],
   "source": [
    "dataset = pixels.reshape((659,-1))\n",
    "dataset = np.concatenate((dataset, np.array(df['depth']).reshape((659,1))),axis=1)\n",
    "dataset=dataset[dataset[:,-1]>0]\n",
    "dataset = pd.DataFrame(dataset)\n",
    "np.save('dataset_open.npy', dataset)"
   ]
  },
  {
   "cell_type": "code",
   "execution_count": null,
   "id": "engaged-european",
   "metadata": {},
   "outputs": [],
   "source": [
    "# run this cell if you've already saved the dataset \n",
    "'''\n",
    "dataset = np.load('dataset_open.npy',allow_pickle=True)\n",
    "dataset = dataset[dataset[:,-1]>0]\n",
    "dataset_cropped = np.load('dataset_open_cropped.npy',allow_pickle=True)\n",
    "dataset_cropped = dataset_cropped[dataset_cropped[:,-1]>0]\n",
    "'''"
   ]
  },
  {
   "cell_type": "markdown",
   "id": "falling-small",
   "metadata": {},
   "source": [
    "__7. Machine Learning Linear Regression.__"
   ]
  },
  {
   "cell_type": "markdown",
   "id": "acoustic-conclusion",
   "metadata": {},
   "source": [
    "# four machine learning scenarios:\n",
    "1. full image, linear regression\n",
    "2. fill image, CNN\n",
    "3. cropped image, linear regression\n",
    "4. cropped image, CNN"
   ]
  },
  {
   "cell_type": "code",
   "execution_count": 62,
   "id": "spoken-clearing",
   "metadata": {},
   "outputs": [],
   "source": [
    "train_dataset = dataset_cropped.sample(frac=0.8, random_state=0)\n",
    "test_dataset = dataset_cropped.drop(train_dataset.index)"
   ]
  },
  {
   "cell_type": "code",
   "execution_count": 43,
   "id": "surprised-conspiracy",
   "metadata": {},
   "outputs": [],
   "source": [
    "train_dataset = dataset.sample(frac=0.8, random_state=0)\n",
    "test_dataset = dataset.drop(train_dataset.index)"
   ]
  },
  {
   "cell_type": "code",
   "execution_count": 63,
   "id": "organic-prisoner",
   "metadata": {},
   "outputs": [],
   "source": [
    "scaler = MinMaxScaler()\n",
    "scaled_train = scaler.fit_transform(train_dataset)\n",
    "scaled_test = scaler.transform(test_dataset) ## fit_transform != transform. \n",
    "                                             ## transform uses the parameters of fit_transform"
   ]
  },
  {
   "cell_type": "code",
   "execution_count": 64,
   "id": "lucky-chile",
   "metadata": {},
   "outputs": [],
   "source": [
    "train_x, train_y = scaled_train[:, :-1], scaled_train[:, -1]\n",
    "test_x, test_y = scaled_test[:, :-1], scaled_test[:, -1]"
   ]
  },
  {
   "cell_type": "code",
   "execution_count": null,
   "id": "identical-polyester",
   "metadata": {},
   "outputs": [],
   "source": []
  },
  {
   "cell_type": "code",
   "execution_count": 65,
   "id": "raising-mixer",
   "metadata": {},
   "outputs": [],
   "source": [
    "tf.random.set_seed(0) ## For reproducible results\n",
    "linear_regression = tf.keras.models.Sequential() # Specify layers in their sequential order\n",
    "# inputs are 4 dimensions (4 dimensions = 4 features)\n",
    "# Dense = Fully Connected.  \n",
    "linear_regression.add(tf.keras.layers.Dense(1, activation=None ,input_shape=(train_x.shape[1],)))\n",
    "# Output layer has no activation with just 1 node"
   ]
  },
  {
   "cell_type": "code",
   "execution_count": 66,
   "id": "challenging-soundtrack",
   "metadata": {},
   "outputs": [],
   "source": [
    "opt = tf.keras.optimizers.Adam(learning_rate=0.00005)\n",
    "linear_regression.compile(optimizer = opt, loss='mean_absolute_error')"
   ]
  },
  {
   "cell_type": "code",
   "execution_count": 67,
   "id": "minute-abraham",
   "metadata": {},
   "outputs": [
    {
     "name": "stdout",
     "output_type": "stream",
     "text": [
      "Model: \"sequential_4\"\n",
      "_________________________________________________________________\n",
      "Layer (type)                 Output Shape              Param #   \n",
      "=================================================================\n",
      "dense_10 (Dense)             (None, 1)                 60001     \n",
      "=================================================================\n",
      "Total params: 60,001\n",
      "Trainable params: 60,001\n",
      "Non-trainable params: 0\n",
      "_________________________________________________________________\n",
      "None\n"
     ]
    }
   ],
   "source": [
    "print(linear_regression.summary())"
   ]
  },
  {
   "cell_type": "code",
   "execution_count": 68,
   "id": "stretch-lesson",
   "metadata": {},
   "outputs": [
    {
     "name": "stdout",
     "output_type": "stream",
     "text": [
      "CPU times: user 33.2 s, sys: 37.4 s, total: 1min 10s\n",
      "Wall time: 35.5 s\n"
     ]
    }
   ],
   "source": [
    "%%time\n",
    "# NOTE: can changed from epochs=150 to run faster, change to verbose=1 for per-epoch output\n",
    "history =linear_regression.fit(train_x, train_y, epochs=100, validation_split = 0.2, verbose=0)"
   ]
  },
  {
   "cell_type": "code",
   "execution_count": 69,
   "id": "vocal-merit",
   "metadata": {},
   "outputs": [
    {
     "data": {
      "image/png": "[encoded data removed]",
      "text/plain": [
       "<Figure size 432x288 with 1 Axes>"
      ]
     },
     "metadata": {
      "needs_background": "light"
     },
     "output_type": "display_data"
    }
   ],
   "source": [
    "plt.plot(history.history['loss'], label='Training loss Cropped')\n",
    "plt.plot(history.history['val_loss'], label='Validation loss Cropped')\n",
    "plt.xlabel('Epoch')\n",
    "plt.legend()\n",
    "plt.grid(True)"
   ]
  },
  {
   "cell_type": "code",
   "execution_count": 50,
   "id": "graduate-discharge",
   "metadata": {},
   "outputs": [
    {
     "data": {
      "image/png": "[encoded data removed]",
      "text/plain": [
       "<Figure size 432x288 with 1 Axes>"
      ]
     },
     "metadata": {
      "needs_background": "light"
     },
     "output_type": "display_data"
    }
   ],
   "source": [
    "plt.plot(history.history['loss'], label='Training loss Uncropped')\n",
    "plt.plot(history.history['val_loss'], label='Validation loss Uncropped')\n",
    "plt.xlabel('Epoch')\n",
    "plt.legend()\n",
    "plt.grid(True)"
   ]
  },
  {
   "cell_type": "markdown",
   "id": "burning-semiconductor",
   "metadata": {},
   "source": [
    "# Neural Net"
   ]
  },
  {
   "cell_type": "code",
   "execution_count": 51,
   "id": "lyric-monitor",
   "metadata": {},
   "outputs": [],
   "source": [
    "tf.random.set_seed(1000)  ## For reproducible results\n",
    "network = tf.keras.models.Sequential() # Specify layers in their sequential order\n",
    "# inputs are 4 dimensions (4 dimensions = 4 features)\n",
    "# Dense = Fully Connected.   \n",
    "# First hidden layer has 1000 neurons with relu activations.\n",
    "# Second hidden layer has 512 neurons with relu activations\n",
    "# Third hidden layer has 256 neurons with Sigmoid activations\n",
    "network.add(tf.keras.layers.Dense(1200, activation='sigmoid' ,input_shape=(train_x.shape[1],)))\n",
    "network.add(tf.keras.layers.Dense(600, activation='sigmoid')) # sigmoid, tanh\n",
    "network.add(tf.keras.layers.Dense(300, activation='sigmoid'))\n",
    "# Output layer uses no activation with 1 output neurons\n",
    "network.add(tf.keras.layers.Dense(1)) # Output layer"
   ]
  },
  {
   "cell_type": "code",
   "execution_count": 52,
   "id": "protective-paintball",
   "metadata": {},
   "outputs": [],
   "source": [
    "opt = tf.keras.optimizers.Adam(learning_rate=0.0001)\n",
    "network.compile(optimizer = opt, loss='mean_squared_error')"
   ]
  },
  {
   "cell_type": "code",
   "execution_count": 53,
   "id": "vertical-maryland",
   "metadata": {},
   "outputs": [
    {
     "name": "stdout",
     "output_type": "stream",
     "text": [
      "CPU times: user 11min 33s, sys: 2min 47s, total: 14min 21s\n",
      "Wall time: 7min 12s\n"
     ]
    }
   ],
   "source": [
    "%%time\n",
    "\n",
    "# NOTE: if you have time, consider upping epochs -> 150\n",
    "history = network.fit(train_x, train_y, epochs=70, validation_split = 0.2, verbose=0)"
   ]
  },
  {
   "cell_type": "code",
   "execution_count": 28,
   "id": "subjective-indication",
   "metadata": {},
   "outputs": [
    {
     "data": {
      "image/png": "[encoded data removed]",
      "text/plain": [
       "<Figure size 432x288 with 1 Axes>"
      ]
     },
     "metadata": {
      "needs_background": "light"
     },
     "output_type": "display_data"
    }
   ],
   "source": [
    "plt.plot(history.history['loss'], label='Training loss Cropped')\n",
    "plt.plot(history.history['val_loss'], label='Validation loss Cropped')\n",
    "plt.xlabel('Epoch')\n",
    "plt.ylabel('Error')\n",
    "plt.legend()\n",
    "plt.grid(True)"
   ]
  },
  {
   "cell_type": "code",
   "execution_count": 54,
   "id": "dominican-bleeding",
   "metadata": {},
   "outputs": [
    {
     "data": {
      "image/png": "[encoded data removed]",
      "text/plain": [
       "<Figure size 432x288 with 1 Axes>"
      ]
     },
     "metadata": {
      "needs_background": "light"
     },
     "output_type": "display_data"
    }
   ],
   "source": [
    "plt.plot(history.history['loss'], label='Training loss Uncropped')\n",
    "plt.plot(history.history['val_loss'], label='Validation loss Uncropped')\n",
    "plt.xlabel('Epoch')\n",
    "plt.ylabel('Error')\n",
    "plt.legend()\n",
    "plt.grid(True)"
   ]
  },
  {
   "cell_type": "code",
   "execution_count": 57,
   "id": "developed-attachment",
   "metadata": {},
   "outputs": [],
   "source": [
    "## Linear Regression\n",
    "\n",
    "yhat_linReg = linear_regression.predict(test_x)\n",
    "inv_yhat_linReg = np.concatenate((test_x, yhat_linReg), axis=1)\n",
    "#inv_yhat_linReg = scaler.inverse_transform(inv_yhat_linReg)\n",
    "inv_yhat_linReg = inv_yhat_linReg[:,-1]\n",
    "\n",
    "## DNN\n",
    "yhat_dnn = network.predict(test_x) \n",
    "inv_yhat_dnn = np.concatenate((test_x, yhat_dnn), axis=1)\n",
    "#inv_yhat_dnn = scaler.inverse_transform(inv_yhat_dnn)\n",
    "inv_yhat_dnn = inv_yhat_dnn[:,-1]\n",
    "\n",
    "## True Snow Depth (Test Set)\n",
    "inv_y = test_y\n",
    "\n",
    "\n",
    "## Put Observed and Predicted (Linear Regression and DNN) in a Dataframe\n",
    "prediction_df = pd.DataFrame({\"Observed\": inv_y,\n",
    "                    \"LR\":inv_yhat_linReg, \"DNN\":inv_yhat_dnn})"
   ]
  },
  {
   "cell_type": "code",
   "execution_count": 30,
   "id": "existing-kitty",
   "metadata": {},
   "outputs": [
    {
     "data": {
      "text/plain": [
       "0     0.322607\n",
       "1     0.803643\n",
       "2     0.209559\n",
       "3     0.544487\n",
       "4     0.297175\n",
       "        ...   \n",
       "59    0.275520\n",
       "60    0.346014\n",
       "61    0.222271\n",
       "62    0.182236\n",
       "63    0.255825\n",
       "Name: LR, Length: 64, dtype: float64"
      ]
     },
     "execution_count": 30,
     "metadata": {},
     "output_type": "execute_result"
    }
   ],
   "source": [
    "prediction_df['LR']"
   ]
  },
  {
   "cell_type": "code",
   "execution_count": 58,
   "id": "timely-birth",
   "metadata": {},
   "outputs": [],
   "source": [
    "def metrics_print(test_data,test_predict):\n",
    "    print('Test RMSE: ', round(np.sqrt(mean_squared_error(test_data, test_predict)), 2))\n",
    "    print('Test R^2 : ', round((r2_score(test_data, test_predict)*100), 2) ,\"%\")\n",
    "    print('Test MAPE: ', round(mean_absolute_percentage_error(test_data, test_predict)*100,2), '%')"
   ]
  },
  {
   "cell_type": "code",
   "execution_count": 40,
   "id": "understood-nelson",
   "metadata": {},
   "outputs": [
    {
     "name": "stdout",
     "output_type": "stream",
     "text": [
      "##************** Linear Regression Results **************##\n",
      "Test RMSE:  0.49\n",
      "Test R^2 :  -137.83 %\n",
      "Test MAPE:  6656205468468297.0 %\n",
      " \n",
      " \n",
      "##************** Deep Learning Results **************##\n",
      "Test RMSE:  0.12\n",
      "Test R^2 :  84.75 %\n",
      "Test MAPE:  372237772390466.4 %\n",
      " \n",
      " \n"
     ]
    }
   ],
   "source": [
    "print(\"##************** Linear Regression Results **************##\")\n",
    "metrics_print(prediction_df['Observed'], prediction_df['LR'])\n",
    "print(\" \")\n",
    "print(\" \")\n",
    "\n",
    "print(\"##************** Deep Learning Results **************##\")\n",
    "metrics_print(prediction_df['Observed'], prediction_df['DNN'])\n",
    "print(\" \")\n",
    "print(\" \")"
   ]
  },
  {
   "cell_type": "code",
   "execution_count": 59,
   "id": "functioning-spanish",
   "metadata": {},
   "outputs": [
    {
     "name": "stdout",
     "output_type": "stream",
     "text": [
      "##************** Uncropped Linear Regression Results **************##\n",
      "Test RMSE:  0.78\n",
      "Test R^2 :  -502.18 %\n",
      "Test MAPE:  1.087831948656836e+16 %\n",
      " \n",
      " \n",
      "##************** Uncropped Deep Learning Results **************##\n",
      "Test RMSE:  0.17\n",
      "Test R^2 :  72.02 %\n",
      "Test MAPE:  2683629784269141.5 %\n",
      " \n",
      " \n"
     ]
    }
   ],
   "source": [
    "print(\"##************** Uncropped Linear Regression Results **************##\")\n",
    "metrics_print(prediction_df['Observed'], prediction_df['LR'])\n",
    "print(\" \")\n",
    "print(\" \")\n",
    "\n",
    "print(\"##************** Uncropped Deep Learning Results **************##\")\n",
    "metrics_print(prediction_df['Observed'], prediction_df['DNN'])\n",
    "print(\" \")\n",
    "print(\" \")"
   ]
  },
  {
   "cell_type": "code",
   "execution_count": 33,
   "id": "light-portsmouth",
   "metadata": {},
   "outputs": [
    {
     "data": {
      "text/plain": [
       "Text(0.5, 1.0, 'Deep Neural Network')"
      ]
     },
     "execution_count": 33,
     "metadata": {},
     "output_type": "execute_result"
    },
    {
     "data": {
      "image/png": "[encoded data removed]",
      "text/plain": [
       "<Figure size 1152x360 with 2 Axes>"
      ]
     },
     "metadata": {
      "needs_background": "light"
     },
     "output_type": "display_data"
    }
   ],
   "source": [
    "fa = plt.figure(figsize=(16,5))\n",
    "plt.subplot(1,2,1)\n",
    "plt.scatter(prediction_df['Observed'],prediction_df['LR'])\n",
    "plt.xlabel('True Values [snow_depth]', fontsize=15)\n",
    "plt.ylabel('Predictions [snow_depth]', fontsize=15)\n",
    "plt.title(\"Linear Regression\")\n",
    "\n",
    "\n",
    "plt.subplot(1,2,2)\n",
    "plt.scatter(prediction_df['Observed'],prediction_df['DNN'])\n",
    "plt.xlabel('True Values [snow_depth]', fontsize=15)\n",
    "plt.ylabel('Predictions [snow_depth]', fontsize=15)\n",
    "plt.title(\"Deep Neural Network\")\n"
   ]
  },
  {
   "cell_type": "code",
   "execution_count": 60,
   "id": "wrong-protein",
   "metadata": {},
   "outputs": [
    {
     "data": {
      "text/plain": [
       "Text(0.5, 1.0, 'Deep Neural Network - Uncropped')"
      ]
     },
     "execution_count": 60,
     "metadata": {},
     "output_type": "execute_result"
    },
    {
     "data": {
      "image/png": "[encoded data removed]",
      "text/plain": [
       "<Figure size 1152x360 with 2 Axes>"
      ]
     },
     "metadata": {
      "needs_background": "light"
     },
     "output_type": "display_data"
    }
   ],
   "source": [
    "fa = plt.figure(figsize=(16,5))\n",
    "plt.subplot(1,2,1)\n",
    "plt.scatter(prediction_df['Observed'],prediction_df['LR'])\n",
    "plt.xlabel('True Values [snow_depth]', fontsize=15)\n",
    "plt.ylabel('Predictions [snow_depth]', fontsize=15)\n",
    "plt.title(\"Linear Regression - Uncropped\")\n",
    "\n",
    "\n",
    "plt.subplot(1,2,2)\n",
    "plt.scatter(prediction_df['Observed'],prediction_df['DNN'])\n",
    "plt.xlabel('True Values [snow_depth]', fontsize=15)\n",
    "plt.ylabel('Predictions [snow_depth]', fontsize=15)\n",
    "plt.title(\"Deep Neural Network - Uncropped\")"
   ]
  },
  {
   "cell_type": "code",
   "execution_count": 34,
   "id": "african-saver",
   "metadata": {},
   "outputs": [
    {
     "data": {
      "text/plain": [
       "Text(0.5, 1.0, 'Deep Neural Network')"
      ]
     },
     "execution_count": 34,
     "metadata": {},
     "output_type": "execute_result"
    },
    {
     "data": {
      "image/png": "[encoded data removed]",
      "text/plain": [
       "<Figure size 1152x360 with 2 Axes>"
      ]
     },
     "metadata": {
      "needs_background": "light"
     },
     "output_type": "display_data"
    }
   ],
   "source": [
    "LR_error = prediction_df['Observed'] - prediction_df['LR']\n",
    "DNN_error = prediction_df['Observed'] - prediction_df['DNN']\n",
    "\n",
    "fa = plt.figure(figsize=(16,5))\n",
    "\n",
    "plt.subplot(1,2,1)\n",
    "LR_error.hist()\n",
    "plt.xlabel('Error', fontsize=15)\n",
    "plt.ylabel('Frequency', fontsize=15)\n",
    "plt.title(\"Linear Regression\")\n",
    "\n",
    "plt.subplot(1,2,2)\n",
    "DNN_error.hist()\n",
    "plt.xlabel('Error', fontsize=15)\n",
    "plt.ylabel('Frequency', fontsize=15)\n",
    "plt.title(\"Deep Neural Network\")"
   ]
  },
  {
   "cell_type": "code",
   "execution_count": 61,
   "id": "initial-history",
   "metadata": {},
   "outputs": [
    {
     "data": {
      "text/plain": [
       "Text(0.5, 1.0, 'Deep Neural Network - Uncropped')"
      ]
     },
     "execution_count": 61,
     "metadata": {},
     "output_type": "execute_result"
    },
    {
     "data": {
      "image/png": "[encoded data removed]",
      "text/plain": [
       "<Figure size 1152x360 with 2 Axes>"
      ]
     },
     "metadata": {
      "needs_background": "light"
     },
     "output_type": "display_data"
    }
   ],
   "source": [
    "LR_error = prediction_df['Observed'] - prediction_df['LR']\n",
    "DNN_error = prediction_df['Observed'] - prediction_df['DNN']\n",
    "\n",
    "fa = plt.figure(figsize=(16,5))\n",
    "\n",
    "plt.subplot(1,2,1)\n",
    "LR_error.hist()\n",
    "plt.xlabel('Error', fontsize=15)\n",
    "plt.ylabel('Frequency', fontsize=15)\n",
    "plt.title(\"Linear Regression - Uncropped\")\n",
    "\n",
    "plt.subplot(1,2,2)\n",
    "DNN_error.hist()\n",
    "plt.xlabel('Error', fontsize=15)\n",
    "plt.ylabel('Frequency', fontsize=15)\n",
    "plt.title(\"Deep Neural Network - Uncropped\")"
   ]
  },
  {
   "cell_type": "code",
   "execution_count": null,
   "id": "geographic-format",
   "metadata": {},
   "outputs": [],
   "source": []
  }
 ],
 "metadata": {
  "kernelspec": {
   "display_name": "Python 3",
   "language": "python",
   "name": "python3"
  },
  "language_info": {
   "codemirror_mode": {
    "name": "ipython",
    "version": 3
   },
   "file_extension": ".py",
   "mimetype": "text/x-python",
   "name": "python",
   "nbconvert_exporter": "python",
   "pygments_lexer": "ipython3",
   "version": "3.8.8"
  }
 },
 "nbformat": 4,
 "nbformat_minor": 5
}
