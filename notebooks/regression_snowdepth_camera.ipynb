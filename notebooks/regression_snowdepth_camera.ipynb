{
 "cells": [
  {
   "cell_type": "markdown",
   "id": "vocational-brake",
   "metadata": {},
   "source": [
    "# Regression model for snow depth in time lapse images\n",
    "\n",
    "SnowEx Hackweek 2021 \n",
    "\n",
    "*#cam_learning*\n",
    "\n",
    "__Contributors:__ Marianne Cowherd, Danny Hogan, Katie Breen, Ching-ping Yu"
   ]
  },
  {
   "cell_type": "markdown",
   "id": "satellite-pound",
   "metadata": {},
   "source": [
    "### __Objectives:__\n",
    "\n",
    "- Train a regression model for extracting snow depth from time-lapse imagery using supervised learning\n",
    "- Evaluate model for accuracy \n",
    "- Test potential improvemnts (i.e. cropping images) and suggest ideas for next steps\n",
    "- Learn ML!"
   ]
  },
  {
   "cell_type": "markdown",
   "id": "antique-gambling",
   "metadata": {},
   "source": [
    "### __Motivations:__\n",
    "\n",
    "- 2020 SnowEx time-lapse imagery was labeled for snow-depth, but the process was time-consuming. \n",
    "- Automated methods exist using color thresholding and the Hough Transform, but background pixels add uncertainty.\n",
    "- Computer vision may be able to detect the pole without including the background noise, and identify the snow depth information \n",
    "- 2017 SnowEx time-lapse has not been labeled, and a working ML model could be applied on these images"
   ]
  },
  {
   "cell_type": "code",
   "execution_count": 23,
   "id": "european-appearance",
   "metadata": {},
   "outputs": [],
   "source": [
    "### insert moving video of all the camera images and snow depths underneath (Katie will add once she gets the code from Cassie)"
   ]
  },
  {
   "cell_type": "markdown",
   "id": "electoral-lobby",
   "metadata": {},
   "source": [
    "### __Methods__\n",
    "\n",
    "We will use the 2020 SnowEx timelapse from one camera (W1A) as our predictor and the corresponding snow depth measurements in the SnowEx SQL database as the response, to build a supervised model."
   ]
  },
  {
   "cell_type": "markdown",
   "id": "comfortable-password",
   "metadata": {},
   "source": [
    "__1) Load packages for image and data table pre-processing, model development, and model evaluation__"
   ]
  },
  {
   "cell_type": "code",
   "execution_count": 24,
   "id": "oriental-bibliography",
   "metadata": {},
   "outputs": [
    {
     "name": "stdout",
     "output_type": "stream",
     "text": [
      "Requirement already satisfied: opencv-python-headless in /srv/conda/envs/notebook/lib/python3.8/site-packages (4.5.3.56)\n",
      "Requirement already satisfied: numpy>=1.17.3 in /srv/conda/envs/notebook/lib/python3.8/site-packages (from opencv-python-headless) (1.21.0)\n"
     ]
    }
   ],
   "source": [
    "# NOTE: this part of the tutorial uses additional libraries not in the default snowex jupyterhub\n",
    "# mamba is a python package management alternative to conda and pip https://github.com/mamba-org/mamba\n",
    "!mamba install -y -q tensorflow\n",
    "!pip install opencv-python-headless "
   ]
  },
  {
   "cell_type": "code",
   "execution_count": 25,
   "id": "qualified-painting",
   "metadata": {},
   "outputs": [],
   "source": [
    "\n",
    "#### Load packages for machine learning\n",
    "import tensorflow as tf  # end-to-end open source platform for machine learning\n",
    "\n",
    "# from tensorflow.keras.datasets import cifar10\n",
    "# keras is python and uses tensorflow in the backend\n",
    "from tensorflow.keras.models import Sequential\n",
    "from tensorflow.keras.layers import Dense, Flatten, Conv2D\n",
    "from tensorflow.keras.losses import sparse_categorical_crossentropy\n",
    "from tensorflow.keras.optimizers import Adam\n",
    "from sklearn.preprocessing import MinMaxScaler\n",
    "from sklearn.metrics import mean_squared_error, r2_score, mean_absolute_percentage_error\n",
    "\n",
    "#### Packages for image processing and computer vision \n",
    "import pandas as pd\n",
    "import numpy as np\n",
    "import os\n",
    "import matplotlib.pyplot as plt\n",
    "import cv2\n",
    "import geopandas as gpd\n",
    "import datetime as dt\n",
    "from datetime import datetime\n",
    "\n",
    "from sklearn.model_selection import train_test_split\n",
    "from PIL import Image\n",
    "from PIL import Image, ExifTags\n",
    "\n",
    "### Packages for processing snow depth values using the SnowEx SQL database \n",
    "from snowexsql.db import get_table_attributes\n",
    "\n",
    "import snowexsql.db\n",
    "from snowexsql.data import PointData, SiteData\n",
    "from snowexsql.conversions import query_to_geopandas\n",
    "# Import the function to get connect to the db\n",
    "from snowexsql.db import get_db\n",
    "\n",
    "# This is what you will use for all of hackweek to access the db\n",
    "db_name = 'snow:hackweek@52.32.183.144/snowex'\n",
    "engine, session = get_db(db_name)\n"
   ]
  },
  {
   "cell_type": "markdown",
   "id": "proof-justice",
   "metadata": {},
   "source": [
    "__2. After loading the packages, we will load in the images from the Amazon Web Services S3. We will focus on one camera, W1A.__ "
   ]
  },
  {
   "cell_type": "code",
   "execution_count": 26,
   "id": "modern-pound",
   "metadata": {},
   "outputs": [],
   "source": [
    "!aws s3 sync --no-progress s3://snowex-data/tutorial-data/camera-trap/ /tmp/camera-trap"
   ]
  },
  {
   "cell_type": "code",
   "execution_count": 27,
   "id": "verified-decrease",
   "metadata": {},
   "outputs": [],
   "source": [
    "## Load in the images \n",
    "files = os.listdir('/tmp/camera-trap/W1A')\n",
    "files =  ['/tmp/camera-trap/W1A/' + str(f) for f in files]\n",
    "\n",
    "df = pd.DataFrame([],\n",
    "                   columns=['date','photo_id','time','datetime','depth'])\n",
    "\n",
    "for i in range(0,len(files)): \n",
    "    \n",
    "    img = Image.open(files[i])\n",
    "    exif = { ExifTags.TAGS[k]: v for k, v in img._getexif().items() if k in ExifTags.TAGS }\n",
    "    exif['DateTime'] = datetime.strptime(exif['DateTime'],'%Y:%m:%d %H:%M:%S')\n",
    "    df.loc[i]= [exif['DateTime'].date(),\n",
    "                       files[i],\n",
    "                       exif['DateTime'].time(),exif['DateTime'],np.nan]"
   ]
  },
  {
   "cell_type": "markdown",
   "id": "signal-purple",
   "metadata": {},
   "source": [
    "__3. Read in the images using cv2's imread function, then downscale the images to 200 x 200 pixels. 'pixels' is a list of all the images represented as an RGB array.__"
   ]
  },
  {
   "cell_type": "code",
   "execution_count": 6,
   "id": "varying-gospel",
   "metadata": {},
   "outputs": [
    {
     "name": "stdout",
     "output_type": "stream",
     "text": [
      "(659, 200, 200, 3)\n"
     ]
    },
    {
     "ename": "FileNotFoundError",
     "evalue": "[Errno 2] No such file or directory: 'pixels_open.npy'",
     "output_type": "error",
     "traceback": [
      "\u001b[0;31m---------------------------------------------------------------------------\u001b[0m",
      "\u001b[0;31mFileNotFoundError\u001b[0m                         Traceback (most recent call last)",
      "\u001b[0;32m<ipython-input-6-462866ae2c9d>\u001b[0m in \u001b[0;36m<module>\u001b[0;34m\u001b[0m\n\u001b[1;32m     21\u001b[0m \u001b[0mprint\u001b[0m\u001b[0;34m(\u001b[0m\u001b[0mpixels\u001b[0m\u001b[0;34m.\u001b[0m\u001b[0mshape\u001b[0m\u001b[0;34m)\u001b[0m\u001b[0;34m\u001b[0m\u001b[0;34m\u001b[0m\u001b[0m\n\u001b[1;32m     22\u001b[0m \u001b[0;31m#print(pixels)\u001b[0m\u001b[0;34m\u001b[0m\u001b[0;34m\u001b[0m\u001b[0;34m\u001b[0m\u001b[0m\n\u001b[0;32m---> 23\u001b[0;31m \u001b[0mpixels\u001b[0m\u001b[0;34m=\u001b[0m\u001b[0mnp\u001b[0m\u001b[0;34m.\u001b[0m\u001b[0mload\u001b[0m\u001b[0;34m(\u001b[0m\u001b[0;34m'pixels_open.npy'\u001b[0m\u001b[0;34m)\u001b[0m\u001b[0;34m\u001b[0m\u001b[0;34m\u001b[0m\u001b[0m\n\u001b[0m",
      "\u001b[0;32m/srv/conda/envs/notebook/lib/python3.8/site-packages/numpy/lib/npyio.py\u001b[0m in \u001b[0;36mload\u001b[0;34m(file, mmap_mode, allow_pickle, fix_imports, encoding)\u001b[0m\n\u001b[1;32m    415\u001b[0m             \u001b[0mown_fid\u001b[0m \u001b[0;34m=\u001b[0m \u001b[0;32mFalse\u001b[0m\u001b[0;34m\u001b[0m\u001b[0;34m\u001b[0m\u001b[0m\n\u001b[1;32m    416\u001b[0m         \u001b[0;32melse\u001b[0m\u001b[0;34m:\u001b[0m\u001b[0;34m\u001b[0m\u001b[0;34m\u001b[0m\u001b[0m\n\u001b[0;32m--> 417\u001b[0;31m             \u001b[0mfid\u001b[0m \u001b[0;34m=\u001b[0m \u001b[0mstack\u001b[0m\u001b[0;34m.\u001b[0m\u001b[0menter_context\u001b[0m\u001b[0;34m(\u001b[0m\u001b[0mopen\u001b[0m\u001b[0;34m(\u001b[0m\u001b[0mos_fspath\u001b[0m\u001b[0;34m(\u001b[0m\u001b[0mfile\u001b[0m\u001b[0;34m)\u001b[0m\u001b[0;34m,\u001b[0m \u001b[0;34m\"rb\"\u001b[0m\u001b[0;34m)\u001b[0m\u001b[0;34m)\u001b[0m\u001b[0;34m\u001b[0m\u001b[0;34m\u001b[0m\u001b[0m\n\u001b[0m\u001b[1;32m    418\u001b[0m             \u001b[0mown_fid\u001b[0m \u001b[0;34m=\u001b[0m \u001b[0;32mTrue\u001b[0m\u001b[0;34m\u001b[0m\u001b[0;34m\u001b[0m\u001b[0m\n\u001b[1;32m    419\u001b[0m \u001b[0;34m\u001b[0m\u001b[0m\n",
      "\u001b[0;31mFileNotFoundError\u001b[0m: [Errno 2] No such file or directory: 'pixels_open.npy'"
     ]
    }
   ],
   "source": [
    "pixels = []      \n",
    "for i in range(0, len(df)):\n",
    "    # img = cv2.imread(str(path)+\"/\"+str(img))\n",
    "    # src = Image.open(str(path)+\"/\"+str(img))\n",
    "    path = df['photo_id'][i]\n",
    "    src = cv2.imread(path, cv2.IMREAD_UNCHANGED)\n",
    "    #calculate the 50 percent of original dimensions\n",
    "    width =200 # int(src.shape[1] * scale_percent / 100)\n",
    "    height = 200 # int(src.shape[0] * scale_percent / 100)\n",
    "    # dsize\n",
    "    dsize = (width, height)\n",
    "    # resize image\n",
    "    output = cv2.resize(src, dsize)\n",
    "    cv2.imwrite('tmp.jpg',output) \n",
    "    # img1 = img.save('tmp', format='JPEG',dpi=(50,50))\n",
    "    img2 = cv2.imread('tmp.jpg')\n",
    "    img2 = cv2.cvtColor(img2,cv2.COLOR_BGR2RGB)\n",
    "    pixels.append(np.array(img2))\n",
    "\n",
    "pixels = np.array(pixels)\n",
    "print(pixels.shape) \n",
    "#print(pixels)\n",
    "pixels=np.load('pixels_open.npy')"
   ]
  },
  {
   "cell_type": "markdown",
   "id": "unknown-pattern",
   "metadata": {},
   "source": [
    "__4. Pull the snow depth values from the SnowEx SQL database__\n",
    "\n",
    "In this case, we pulled all the data from the snow depth data from camera W1A."
   ]
  },
  {
   "cell_type": "code",
   "execution_count": 7,
   "id": "current-florist",
   "metadata": {},
   "outputs": [
    {
     "name": "stderr",
     "output_type": "stream",
     "text": [
      "<ipython-input-7-eaee364b886d>:33: SettingWithCopyWarning: \n",
      "A value is trying to be set on a copy of a slice from a DataFrame\n",
      "\n",
      "See the caveats in the documentation: https://pandas.pydata.org/pandas-docs/stable/user_guide/indexing.html#returning-a-view-versus-a-copy\n",
      "  df['depth'][i] = df_open['value'][idx]\n"
     ]
    }
   ],
   "source": [
    "# Use the function to see what columns are available to use. \n",
    "db_columns = get_table_attributes(PointData)\n",
    "\n",
    "# Print out the results nicely\n",
    "# print(\"These are the available columns in the table:\\n \\n* {}\\n\".format('\\n* '.join(db_columns)))\n",
    "\n",
    "# Grab the open site data from the db\n",
    "open_site = 'W1A'\n",
    "qry = session.query(PointData).filter(PointData.equipment.contains(open_site))\n",
    "df_open = query_to_geopandas(qry,engine)\n",
    "\n",
    "# Matach the time from the images to the depth in the database\n",
    "df = pd.DataFrame([],\n",
    "                   columns=['date','photo_id','time','datetime','depth'])\n",
    "for i in range(0,len(files)): \n",
    "    \n",
    "    img = Image.open(files[i])\n",
    "    exif = { ExifTags.TAGS[k]: v for k, v in img._getexif().items() if k in ExifTags.TAGS }\n",
    "    exif['DateTime'] = datetime.strptime(exif['DateTime'],'%Y:%m:%d %H:%M:%S')\n",
    "    df.loc[i]= [exif['DateTime'].date(),\n",
    "                       files[i],\n",
    "                       exif['DateTime'].time(),exif['DateTime'],np.nan]\n",
    "    \n",
    "df_open['datetime'] = [datetime.combine(df_open['date'][i],df_open['time'][i]).replace(tzinfo=None) for i in range(len(df_open))]\n",
    "\n",
    "\n",
    "for i in range(len(df)):\n",
    "    pivot = df['datetime'][i]\n",
    "    items = df_open['datetime']\n",
    "    tmp = np.where(items==pivot)[0]\n",
    "    if len(np.where(items==pivot)[0])>0:\n",
    "        idx = tmp[0]\n",
    "        df['depth'][i] = df_open['value'][idx]\n",
    "  "
   ]
  },
  {
   "cell_type": "code",
   "execution_count": 8,
   "id": "cutting-constant",
   "metadata": {},
   "outputs": [
    {
     "data": {
      "text/plain": [
       "319"
      ]
     },
     "execution_count": 8,
     "metadata": {},
     "output_type": "execute_result"
    }
   ],
   "source": [
    "len(df.loc[df['depth']>0])"
   ]
  },
  {
   "cell_type": "code",
   "execution_count": 9,
   "id": "applicable-opening",
   "metadata": {},
   "outputs": [
    {
     "data": {
      "text/plain": [
       "[<matplotlib.lines.Line2D at 0x7fe9834726d0>]"
      ]
     },
     "execution_count": 9,
     "metadata": {},
     "output_type": "execute_result"
    },
    {
     "data": {
      "image/png": "[encoded data removed]",
      "text/plain": [
       "<Figure size 432x288 with 1 Axes>"
      ]
     },
     "metadata": {
      "needs_background": "light"
     },
     "output_type": "display_data"
    }
   ],
   "source": [
    "plt.plot(df['datetime'],df['depth'],'o')"
   ]
  },
  {
   "cell_type": "markdown",
   "id": "sexual-intermediate",
   "metadata": {},
   "source": [
    "__5. We will do the same as before but this time with cropped images. We will compare our results between the full images and the cropped images.__\n",
    "\n",
    "We will collapse the code to save space. "
   ]
  },
  {
   "cell_type": "code",
   "execution_count": 61,
   "id": "aerial-static",
   "metadata": {
    "jupyter": {
     "source_hidden": true
    }
   },
   "outputs": [
    {
     "ename": "FileNotFoundError",
     "evalue": "[Errno 2] No such file or directory: '/data/cropped/W1A'",
     "output_type": "error",
     "traceback": [
      "\u001b[0;31m---------------------------------------------------------------------------\u001b[0m",
      "\u001b[0;31mFileNotFoundError\u001b[0m                         Traceback (most recent call last)",
      "\u001b[0;32m<ipython-input-61-7cea6f775922>\u001b[0m in \u001b[0;36m<module>\u001b[0;34m\u001b[0m\n\u001b[0;32m----> 1\u001b[0;31m \u001b[0mcropped_files\u001b[0m \u001b[0;34m=\u001b[0m \u001b[0mos\u001b[0m\u001b[0;34m.\u001b[0m\u001b[0mlistdir\u001b[0m\u001b[0;34m(\u001b[0m\u001b[0;34m'/data/cropped/W1A'\u001b[0m\u001b[0;34m)\u001b[0m\u001b[0;34m\u001b[0m\u001b[0;34m\u001b[0m\u001b[0m\n\u001b[0m\u001b[1;32m      2\u001b[0m \u001b[0mcropped_files\u001b[0m \u001b[0;34m=\u001b[0m  \u001b[0;34m[\u001b[0m\u001b[0;34m'/data/cropped/W1A'\u001b[0m \u001b[0;34m+\u001b[0m \u001b[0mstr\u001b[0m\u001b[0;34m(\u001b[0m\u001b[0mf\u001b[0m\u001b[0;34m)\u001b[0m \u001b[0;32mfor\u001b[0m \u001b[0mf\u001b[0m \u001b[0;32min\u001b[0m \u001b[0mfiles\u001b[0m\u001b[0;34m]\u001b[0m\u001b[0;34m\u001b[0m\u001b[0;34m\u001b[0m\u001b[0m\n\u001b[1;32m      3\u001b[0m \u001b[0;34m\u001b[0m\u001b[0m\n\u001b[1;32m      4\u001b[0m df_cropped = pd.DataFrame([],\n\u001b[1;32m      5\u001b[0m                    columns=['date','photo_id','time','datetime','depth'])\n",
      "\u001b[0;31mFileNotFoundError\u001b[0m: [Errno 2] No such file or directory: '/data/cropped/W1A'"
     ]
    }
   ],
   "source": [
    "cropped_files = os.listdir('/data/cropped/W1A')\n",
    "cropped_files =  ['/data/cropped/W1A' + str(f) for f in files]\n",
    "\n",
    "df_cropped = pd.DataFrame([],\n",
    "                   columns=['date','photo_id','time','datetime','depth'])\n",
    "for i in range(0,len(cropped_files)): \n",
    "    \n",
    "    cropped_img = Image.open(cropped_files[i])\n",
    "    exif = { ExifTags.TAGS[k]: v for k, v in cropped_img._getexif().items() if k in ExifTags.TAGS }\n",
    "    exif['DateTime'] = datetime.strptime(exif['DateTime'],'%Y:%m:%d %H:%M:%S')\n",
    "    df_cropped.loc[i]= [exif['DateTime'].date(),\n",
    "                       cropped_files[i],\n",
    "                       exif['DateTime'].time(),exif['DateTime'],np.nan]\n",
    "for i in range(len(df_cropped)):\n",
    "    pivot = df_cropped['datetime'][i]\n",
    "    items = df_open['datetime']\n",
    "    tmp = np.where(items==pivot)[0]\n",
    "    if len(np.where(items==pivot)[0])>0:\n",
    "        idx = tmp[0]\n",
    "        df_cropped['depth'][i] = df_open['value'][idx]\n",
    "\n",
    "pixels_cropped = []      \n",
    "for i in range(0, len(df_cropped)):\n",
    "    # img = cv2.imread(str(path)+\"/\"+str(img))\n",
    "    # src = Image.open(str(path)+\"/\"+str(img))\n",
    "    path = df_cropped['photo_id'][i]\n",
    "    src = cv2.imread(path, cv2.IMREAD_UNCHANGED)\n",
    "    #calculate the 50 percent of original dimensions\n",
    "    width =200 # int(src.shape[1] * scale_percent / 100)\n",
    "    height = 200 # int(src.shape[0] * scale_percent / 100)\n",
    "    # dsize\n",
    "    dsize = (width, height)\n",
    "    # resize image\n",
    "    output = cv2.resize(src, dsize)\n",
    "    cv2.imwrite('tmp.jpg',output) \n",
    "    # img1 = img.save('tmp', format='JPEG',dpi=(50,50))\n",
    "    cropped_img2 = cv2.imread('tmp.jpg')\n",
    "    cropped_img2 = cv2.cvtColor(img2,cv2.COLOR_BGR2RGB)\n",
    "    pixels_cropped.append(np.array(cropped_img2))\n",
    "\n",
    "pixels_cropped = np.array(pixels_cropped)\n",
    "pixels_cropped =np.load('pixels_cropped_open.npy')\n",
    "\n",
    "# Use the function to see what columns are available to use. \n",
    "db_columns = get_table_attributes(PointData)\n",
    "\n",
    "# Print out the results nicely\n",
    "# print(\"These are the available columns in the table:\\n \\n* {}\\n\".format('\\n* '.join(db_columns)))\n",
    "\n",
    "# Grab the open site data from the db\n",
    "open_site = 'W1A'\n",
    "qry = session.query(PointData).filter(PointData.equipment.contains(open_site))\n",
    "df_open = query_to_geopandas(qry,engine)\n",
    "\n",
    "# Matach the time from the images to the depth in the database\n",
    "df_cropped = pd.DataFrame([],\n",
    "                   columns=['date','photo_id','time','datetime','depth'])\n",
    "for i in range(0,len(files)): \n",
    "    \n",
    "    img = Image.open(files[i])\n",
    "    exif = { ExifTags.TAGS[k]: v for k, v in img._getexif().items() if k in ExifTags.TAGS }\n",
    "    exif['DateTime'] = datetime.strptime(exif['DateTime'],'%Y:%m:%d %H:%M:%S')\n",
    "    df_cropped.loc[i]= [exif['DateTime'].date(),\n",
    "                       files[i],\n",
    "                       exif['DateTime'].time(),exif['DateTime'],np.nan]\n",
    "    \n",
    "df_open['datetime'] = [datetime.combine(df_open['date'][i],df_open['time'][i]).replace(tzinfo=None) for i in range(len(df_open))]\n",
    "\n",
    "\n",
    "for i in range(len(df_cropped)):\n",
    "    pivot = df_cropped['datetime'][i]\n",
    "    items = df_open['datetime']\n",
    "    tmp = np.where(items==pivot)[0]\n",
    "    if len(np.where(items==pivot)[0])>0:\n",
    "        idx = tmp[0]\n",
    "        df_cropped['depth'][i] = df_open['value'][idx]"
   ]
  },
  {
   "cell_type": "markdown",
   "id": "small-envelope",
   "metadata": {},
   "source": [
    "__6. Flattening pixels data in a table.__"
   ]
  },
  {
   "cell_type": "code",
   "execution_count": 50,
   "id": "rough-aerospace",
   "metadata": {},
   "outputs": [],
   "source": [
    "dataset = pixels.reshape((659,-1))\n",
    "dataset = np.concatenate((dataset, np.array(df['depth']).reshape((659,1))),axis=1)\n",
    "dataset = pd.DataFrame(dataset)\n",
    "np.save('dataset_open.npy', dataset)"
   ]
  },
  {
   "cell_type": "markdown",
   "id": "confirmed-connection",
   "metadata": {},
   "source": [
    "__7. Machine Learning Linear Regression.__"
   ]
  },
  {
   "cell_type": "code",
   "execution_count": 51,
   "id": "departmental-result",
   "metadata": {},
   "outputs": [
    {
     "name": "stderr",
     "output_type": "stream",
     "text": [
      "<ipython-input-51-c35e5314d888>:2: RuntimeWarning: invalid value encountered in greater\n",
      "  dataset=dataset[dataset[:,-1]>0]\n"
     ]
    }
   ],
   "source": [
    "dataset = np.load('dataset_open.npy',allow_pickle=True)\n",
    "dataset = dataset[dataset[:,-1]>0]"
   ]
  },
  {
   "cell_type": "code",
   "execution_count": 53,
   "id": "racial-stick",
   "metadata": {},
   "outputs": [
    {
     "ename": "AttributeError",
     "evalue": "'numpy.ndarray' object has no attribute 'sample'",
     "output_type": "error",
     "traceback": [
      "\u001b[0;31m---------------------------------------------------------------------------\u001b[0m",
      "\u001b[0;31mAttributeError\u001b[0m                            Traceback (most recent call last)",
      "\u001b[0;32m<ipython-input-53-86a5788597f0>\u001b[0m in \u001b[0;36m<module>\u001b[0;34m\u001b[0m\n\u001b[0;32m----> 1\u001b[0;31m \u001b[0mtrain_dataset\u001b[0m \u001b[0;34m=\u001b[0m \u001b[0mdataset\u001b[0m\u001b[0;34m.\u001b[0m\u001b[0msample\u001b[0m\u001b[0;34m(\u001b[0m\u001b[0mfrac\u001b[0m\u001b[0;34m=\u001b[0m\u001b[0;36m0.8\u001b[0m\u001b[0;34m,\u001b[0m \u001b[0mrandom_state\u001b[0m\u001b[0;34m=\u001b[0m\u001b[0;36m0\u001b[0m\u001b[0;34m)\u001b[0m\u001b[0;34m\u001b[0m\u001b[0;34m\u001b[0m\u001b[0m\n\u001b[0m\u001b[1;32m      2\u001b[0m \u001b[0mtest_dataset\u001b[0m \u001b[0;34m=\u001b[0m \u001b[0mdataset\u001b[0m\u001b[0;34m.\u001b[0m\u001b[0mdrop\u001b[0m\u001b[0;34m(\u001b[0m\u001b[0mtrain_dataset\u001b[0m\u001b[0;34m.\u001b[0m\u001b[0mindex\u001b[0m\u001b[0;34m)\u001b[0m\u001b[0;34m\u001b[0m\u001b[0;34m\u001b[0m\u001b[0m\n",
      "\u001b[0;31mAttributeError\u001b[0m: 'numpy.ndarray' object has no attribute 'sample'"
     ]
    }
   ],
   "source": [
    "train_dataset = dataset.sample(frac=0.8, random_state=0)\n",
    "test_dataset = dataset.drop(train_dataset.index)"
   ]
  },
  {
   "cell_type": "code",
   "execution_count": 54,
   "id": "executive-block",
   "metadata": {},
   "outputs": [
    {
     "name": "stderr",
     "output_type": "stream",
     "text": [
      "/srv/conda/envs/notebook/lib/python3.8/site-packages/sklearn/preprocessing/_data.py:400: RuntimeWarning: All-NaN slice encountered\n",
      "  data_min = np.nanmin(X, axis=0)\n",
      "/srv/conda/envs/notebook/lib/python3.8/site-packages/sklearn/preprocessing/_data.py:401: RuntimeWarning: All-NaN slice encountered\n",
      "  data_max = np.nanmax(X, axis=0)\n"
     ]
    }
   ],
   "source": [
    "scaler = MinMaxScaler()\n",
    "scaled_train = scaler.fit_transform(train_dataset)\n",
    "scaled_test = scaler.transform(test_dataset) ## fit_transform != transform. \n",
    "                                             ## transform uses the parameters of fit_transform"
   ]
  },
  {
   "cell_type": "code",
   "execution_count": 55,
   "id": "neutral-finland",
   "metadata": {},
   "outputs": [],
   "source": [
    "train_X, train_y = scaled_train[:, :-1], scaled_train[:, -1]\n",
    "test_X, test_y = scaled_test[:, :-1], scaled_test[:, -1]"
   ]
  },
  {
   "cell_type": "code",
   "execution_count": 56,
   "id": "danish-absolute",
   "metadata": {},
   "outputs": [],
   "source": [
    "tf.random.set_seed(0) ## For reproducible results\n",
    "linear_regression = tf.keras.models.Sequential() # Specify layers in their sequential order\n",
    "# inputs are 4 dimensions (4 dimensions = 4 features)\n",
    "# Dense = Fully Connected.  \n",
    "linear_regression.add(tf.keras.layers.Dense(1, activation=None ,input_shape=(train_X.shape[1],)))\n",
    "# Output layer has no activation with just 1 node"
   ]
  },
  {
   "cell_type": "code",
   "execution_count": 57,
   "id": "operating-track",
   "metadata": {},
   "outputs": [],
   "source": [
    "opt = tf.keras.optimizers.Adam(learning_rate=0.0001)\n",
    "linear_regression.compile(optimizer = opt, loss='mean_squared_error')"
   ]
  },
  {
   "cell_type": "code",
   "execution_count": 58,
   "id": "induced-journey",
   "metadata": {},
   "outputs": [
    {
     "name": "stdout",
     "output_type": "stream",
     "text": [
      "Model: \"sequential_1\"\n",
      "_________________________________________________________________\n",
      "Layer (type)                 Output Shape              Param #   \n",
      "=================================================================\n",
      "dense_1 (Dense)              (None, 1)                 120001    \n",
      "=================================================================\n",
      "Total params: 120,001\n",
      "Trainable params: 120,001\n",
      "Non-trainable params: 0\n",
      "_________________________________________________________________\n",
      "None\n"
     ]
    }
   ],
   "source": [
    "print(linear_regression.summary())"
   ]
  },
  {
   "cell_type": "code",
   "execution_count": 59,
   "id": "alpha-creature",
   "metadata": {},
   "outputs": [
    {
     "name": "stdout",
     "output_type": "stream",
     "text": [
      "CPU times: user 1min 4s, sys: 1min 7s, total: 2min 11s\n",
      "Wall time: 1min 6s\n"
     ]
    }
   ],
   "source": [
    "%%time\n",
    "# NOTE: can changed from epochs=150 to run faster, change to verbose=1 for per-epoch output\n",
    "history =linear_regression.fit(train_X, train_y, epochs=100, validation_split = 0.2, verbose=0)"
   ]
  },
  {
   "cell_type": "code",
   "execution_count": 42,
   "id": "refined-piano",
   "metadata": {},
   "outputs": [
    {
     "data": {
      "image/png": "[encoded data removed]",
      "text/plain": [
       "<Figure size 432x288 with 1 Axes>"
      ]
     },
     "metadata": {
      "needs_background": "light"
     },
     "output_type": "display_data"
    }
   ],
   "source": [
    "plt.plot(history.history['loss'], label='Training loss')\n",
    "plt.plot(history.history['val_loss'], label='Validation loss')\n",
    "plt.xlabel('Epoch')\n",
    "plt.legend()\n",
    "plt.grid(True)"
   ]
  },
  {
   "cell_type": "code",
   "execution_count": null,
   "id": "prescribed-queensland",
   "metadata": {},
   "outputs": [],
   "source": []
  }
 ],
 "metadata": {
  "kernelspec": {
   "display_name": "Python 3",
   "language": "python",
   "name": "python3"
  },
  "language_info": {
   "codemirror_mode": {
    "name": "ipython",
    "version": 3
   },
   "file_extension": ".py",
   "mimetype": "text/x-python",
   "name": "python",
   "nbconvert_exporter": "python",
   "pygments_lexer": "ipython3",
   "version": "3.8.8"
  }
 },
 "nbformat": 4,
 "nbformat_minor": 5
}
