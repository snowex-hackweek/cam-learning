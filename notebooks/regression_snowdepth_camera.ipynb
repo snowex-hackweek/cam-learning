{
 "cells": [
  {
   "cell_type": "markdown",
   "id": "super-exemption",
   "metadata": {},
   "source": [
    "# Regression model for snow depth in time lapse images\n",
    "\n",
    "SnowEx Hackweek 2021 \n",
    "\n",
    "*#cam_learning*\n",
    "\n",
    "__Contributors:__ Marianne Cowherd, Danny Hogan, Katie Breen, Ching-ping Yu"
   ]
  },
  {
   "cell_type": "markdown",
   "id": "nasty-guinea",
   "metadata": {},
   "source": [
    "__Objectives:__\n",
    "\n",
    "- Train a regression machine learning model for extracting snow depth from time-lapse imagery\n",
    "- Evaluate model for accuracy \n",
    "- Test potential improvemnts (i.e. cropping images) and suggest ideas for next steps\n",
    "- Learn ML!"
   ]
  },
  {
   "cell_type": "markdown",
   "id": "medieval-stupid",
   "metadata": {},
   "source": [
    "__Motivations:__\n",
    "\n",
    "- 2020 SnowEx time-lapse imagery was labeled for snow-depth, but the process was time-consuming. \n",
    "- Automated methods exist using color thresholding and the Hough Transform, but background pixels add uncertainty.\n",
    "- Computer vision may be able to detect the pole without including the background noise, and identify the snow depth information \n",
    "- 2017 SnowEx time-lapse has not been labeled, and a working ML model could be applied on these images"
   ]
  },
  {
   "cell_type": "markdown",
   "id": "located-sculpture",
   "metadata": {},
   "source": [
    "Note: we will load tensorflow using !mamba install. We have collapsed "
   ]
  },
  {
   "cell_type": "code",
   "execution_count": 2,
   "id": "fresh-posting",
   "metadata": {},
   "outputs": [
    {
     "name": "stdout",
     "output_type": "stream",
     "text": [
      "  Package                     Version  Build               Channel                    Size\n",
      "────────────────────────────────────────────────────────────────────────────────────────────\n",
      "  Install:\n",
      "────────────────────────────────────────────────────────────────────────────────────────────\n",
      "\n",
      "\u001b[32m  _tflow_select          \u001b[00m       2.3.0  mkl                 pkgs/main/linux-64  \u001b[32m     Cached\u001b[00m\n",
      "\u001b[32m  abseil-cpp             \u001b[00m  20200923.3  h9c3ff4c_0          conda-forge/linux-64\u001b[32m     Cached\u001b[00m\n",
      "\u001b[32m  absl-py                \u001b[00m      0.13.0  pyhd8ed1ab_0        conda-forge/noarch  \u001b[32m     Cached\u001b[00m\n",
      "\u001b[32m  astor                  \u001b[00m       0.8.1  pyh9f0ad1d_0        conda-forge/noarch  \u001b[32m     Cached\u001b[00m\n",
      "\u001b[32m  astunparse             \u001b[00m       1.6.3  pyhd8ed1ab_0        conda-forge/noarch  \u001b[32m     Cached\u001b[00m\n",
      "\u001b[32m  dataclasses            \u001b[00m         0.8  pyhc8e2a94_1        conda-forge/noarch  \u001b[32m     Cached\u001b[00m\n",
      "\u001b[32m  flatbuffers            \u001b[00m       2.0.0  h9c3ff4c_0          conda-forge/linux-64\u001b[32m     Cached\u001b[00m\n",
      "\u001b[32m  gast                   \u001b[00m       0.4.0  pyh9f0ad1d_0        conda-forge/noarch  \u001b[32m     Cached\u001b[00m\n",
      "\u001b[32m  google-pasta           \u001b[00m       0.2.0  pyh8c360ce_0        conda-forge/noarch  \u001b[32m     Cached\u001b[00m\n",
      "\u001b[32m  grpcio                 \u001b[00m      1.38.1  py38hdd6454d_0      conda-forge/linux-64\u001b[32m     Cached\u001b[00m\n",
      "\u001b[32m  keras-preprocessing    \u001b[00m       1.1.2  pyhd8ed1ab_0        conda-forge/noarch  \u001b[32m     Cached\u001b[00m\n",
      "\u001b[32m  libprotobuf            \u001b[00m      3.14.0  h780b84a_0          conda-forge/linux-64\u001b[32m     Cached\u001b[00m\n",
      "\u001b[32m  opt_einsum             \u001b[00m       3.3.0  pyhd8ed1ab_1        conda-forge/noarch  \u001b[32m     Cached\u001b[00m\n",
      "\u001b[32m  protobuf               \u001b[00m      3.14.0  py38h709712a_1      conda-forge/linux-64\u001b[32m     Cached\u001b[00m\n",
      "\u001b[32m  python-flatbuffers     \u001b[00m        1.12  pyhd8ed1ab_1        conda-forge/noarch  \u001b[32m     Cached\u001b[00m\n",
      "\u001b[32m  tensorboard            \u001b[00m       2.5.0  pyhd8ed1ab_0        conda-forge/noarch  \u001b[32m     Cached\u001b[00m\n",
      "\u001b[32m  tensorboard-data-server\u001b[00m       0.6.0  py38h2b97feb_0      conda-forge/linux-64\u001b[32m     Cached\u001b[00m\n",
      "\u001b[32m  tensorboard-plugin-wit \u001b[00m       1.8.0  pyh44b312d_0        conda-forge/noarch  \u001b[32m     Cached\u001b[00m\n",
      "\u001b[32m  tensorflow             \u001b[00m       2.5.0  mkl_py38hce4fbe1_0  pkgs/main/linux-64  \u001b[32m     Cached\u001b[00m\n",
      "\u001b[32m  tensorflow-base        \u001b[00m       2.5.0  mkl_py38h35b2a3d_0  pkgs/main/linux-64  \u001b[32m     Cached\u001b[00m\n",
      "\u001b[32m  tensorflow-estimator   \u001b[00m       2.5.0  pyh81a9013_1        conda-forge/noarch  \u001b[32m     Cached\u001b[00m\n",
      "\u001b[32m  termcolor              \u001b[00m       1.1.0  py_2                conda-forge/noarch  \u001b[32m     Cached\u001b[00m\n",
      "\u001b[32m  werkzeug               \u001b[00m       2.0.1  pyhd8ed1ab_0        conda-forge/noarch  \u001b[32m     Cached\u001b[00m\n",
      "\n",
      "  Upgrade:\n",
      "────────────────────────────────────────────────────────────────────────────────────────────\n",
      "\n",
      "\u001b[31m  ca-certificates        \u001b[00m   2020.12.5  ha878542_0          installed                      \n",
      "\u001b[32m  ca-certificates        \u001b[00m    2021.7.5  h06a4308_1          pkgs/main/linux-64  \u001b[32m     Cached\u001b[00m\n",
      "\u001b[31m  certifi                \u001b[00m   2020.12.5  py38h578d9bd_1      installed                      \n",
      "\u001b[32m  certifi                \u001b[00m   2021.5.30  py38h578d9bd_0      conda-forge/linux-64\u001b[32m     Cached\u001b[00m\n",
      "\u001b[31m  sqlite                 \u001b[00m      3.34.0  h74cdb3f_0          installed                      \n",
      "\u001b[32m  sqlite                 \u001b[00m      3.36.0  h9cd32fc_0          conda-forge/linux-64\u001b[32m     Cached\u001b[00m\n",
      "\n",
      "  Downgrade:\n",
      "────────────────────────────────────────────────────────────────────────────────────────────\n",
      "\n",
      "\u001b[31m  google-auth-oauthlib   \u001b[00m       0.4.4  pyhd8ed1ab_0        installed                      \n",
      "\u001b[32m  google-auth-oauthlib   \u001b[00m       0.4.1  py_2                conda-forge/noarch  \u001b[32m     Cached\u001b[00m\n",
      "\u001b[31m  wheel                  \u001b[00m      0.36.2  pyhd3deb0d_0        installed                      \n",
      "\u001b[32m  wheel                  \u001b[00m      0.35.1  pyh9f0ad1d_0        conda-forge/noarch  \u001b[32m     Cached\u001b[00m\n",
      "\n",
      "  Summary:\n",
      "\n",
      "  Install: 23 packages\n",
      "  Upgrade: 3 packages\n",
      "  Downgrade: 2 packages\n",
      "\n",
      "  Total download: 0  B\n",
      "\n",
      "────────────────────────────────────────────────────────────────────────────────────────────\n",
      "\n",
      "Preparing transaction: ...working... done\n",
      "Verifying transaction: ...working... done\n",
      "Executing transaction: ...working... done\n"
     ]
    }
   ],
   "source": [
    "# NOTE: this part of the tutorial uses additional libraries not in the default snowex jupyterhub\n",
    "# mamba is a python package management alternative to conda and pip https://github.com/mamba-org/mamba\n",
    "!mamba install -y -q tensorflow"
   ]
  },
  {
   "cell_type": "code",
   "execution_count": 1,
   "id": "related-february",
   "metadata": {},
   "outputs": [],
   "source": [
    "#### Load packages for machine learning\n",
    "\n",
    "import tensorflow as tf  # end-to-end open source platform for machine learning\n",
    "\n",
    "# from tensorflow.keras.datasets import cifar10\n",
    "# keras is python and uses tensorflow in the backend\n",
    "from tensorflow.keras.models import Sequential\n",
    "from tensorflow.keras.layers import Dense, Flatten, Conv2D\n",
    "from tensorflow.keras.losses import sparse_categorical_crossentropy\n",
    "from tensorflow.keras.optimizers import Adam\n",
    "from sklearn.preprocessing import MinMaxScaler\n",
    "from sklearn.metrics import mean_squared_error, r2_score, mean_absolute_percentage_error\n",
    "\n",
    "#### \n"
   ]
  },
  {
   "cell_type": "code",
   "execution_count": null,
   "id": "constant-transcript",
   "metadata": {},
   "outputs": [],
   "source": []
  },
  {
   "cell_type": "code",
   "execution_count": null,
   "id": "mineral-bubble",
   "metadata": {},
   "outputs": [],
   "source": []
  }
 ],
 "metadata": {
  "kernelspec": {
   "display_name": "Python 3",
   "language": "python",
   "name": "python3"
  },
  "language_info": {
   "codemirror_mode": {
    "name": "ipython",
    "version": 3
   },
   "file_extension": ".py",
   "mimetype": "text/x-python",
   "name": "python",
   "nbconvert_exporter": "python",
   "pygments_lexer": "ipython3",
   "version": "3.8.8"
  }
 },
 "nbformat": 4,
 "nbformat_minor": 5
}
