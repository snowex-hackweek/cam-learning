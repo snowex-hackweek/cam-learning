{
 "cells": [
  {
   "cell_type": "code",
   "execution_count": 72,
   "id": "soviet-equality",
   "metadata": {},
   "outputs": [],
   "source": [
    "import tensorflow as tf\n",
    "\n",
    "# from tensorflow.keras.datasets import cifar10\n",
    "from tensorflow.keras.models import Sequential\n",
    "from tensorflow.keras.layers import Dense, Flatten, Conv2D\n",
    "from tensorflow.keras.losses import sparse_categorical_crossentropy\n",
    "from tensorflow.keras.optimizers import Adam\n",
    "from sklearn.preprocessing import MinMaxScaler\n",
    "from sklearn.metrics import mean_squared_error, r2_score, mean_absolute_percentage_error\n",
    "\n",
    "import pandas as pd\n",
    "import numpy as np\n",
    "import os\n",
    "import matplotlib.pyplot as plt\n",
    "import cv2\n",
    "import geopandas as gpd\n",
    "import datetime as dt\n",
    "from datetime import datetime\n",
    "\n",
    "from sklearn.model_selection import train_test_split\n",
    "from PIL import Image\n",
    "from PIL import Image, ExifTags\n",
    "\n",
    "# Import the function to investigate a table\n",
    "from snowexsql.db import get_table_attributes\n",
    "\n",
    "import snowexsql.db\n",
    "from snowexsql.data import PointData, SiteData\n",
    "from snowexsql.conversions import query_to_geopandas\n",
    "# Import the function to get connect to the db\n",
    "from snowexsql.db import get_db\n",
    "\n",
    "# This is what you will use for all of hackweek to access the db\n",
    "db_name = 'snow:hackweek@52.32.183.144/snowex'\n",
    "engine, session = get_db(db_name)"
   ]
  },
  {
   "cell_type": "code",
   "execution_count": 71,
   "id": "several-invite",
   "metadata": {},
   "outputs": [],
   "source": [
    "#!aws s3 sync --no-progress s3://snowex-data/tutorial-data/camera-trap/ /tmp/camera-trap"
   ]
  },
  {
   "cell_type": "code",
   "execution_count": 73,
   "id": "middle-popularity",
   "metadata": {},
   "outputs": [
    {
     "name": "stderr",
     "output_type": "stream",
     "text": [
      "<ipython-input-73-e65b60701feb>:20: SettingWithCopyWarning: \n",
      "A value is trying to be set on a copy of a slice from a DataFrame\n",
      "\n",
      "See the caveats in the documentation: https://pandas.pydata.org/pandas-docs/stable/user_guide/indexing.html#returning-a-view-versus-a-copy\n",
      "  df['depth'][i] = df_veg['value'][idx]\n"
     ]
    },
    {
     "ename": "KeyboardInterrupt",
     "evalue": "",
     "output_type": "error",
     "traceback": [
      "\u001b[0;31m---------------------------------------------------------------------------\u001b[0m",
      "\u001b[0;31mKeyboardInterrupt\u001b[0m                         Traceback (most recent call last)",
      "\u001b[0;32m<ipython-input-73-e65b60701feb>\u001b[0m in \u001b[0;36m<module>\u001b[0;34m\u001b[0m\n\u001b[1;32m     25\u001b[0m     \u001b[0;31m# src = Image.open(str(path)+\"/\"+str(img))\u001b[0m\u001b[0;34m\u001b[0m\u001b[0;34m\u001b[0m\u001b[0;34m\u001b[0m\u001b[0m\n\u001b[1;32m     26\u001b[0m     \u001b[0mpath\u001b[0m \u001b[0;34m=\u001b[0m \u001b[0mdf\u001b[0m\u001b[0;34m[\u001b[0m\u001b[0;34m'photo_id'\u001b[0m\u001b[0;34m]\u001b[0m\u001b[0;34m[\u001b[0m\u001b[0mi\u001b[0m\u001b[0;34m]\u001b[0m\u001b[0;34m\u001b[0m\u001b[0;34m\u001b[0m\u001b[0m\n\u001b[0;32m---> 27\u001b[0;31m     \u001b[0msrc\u001b[0m \u001b[0;34m=\u001b[0m \u001b[0mcv2\u001b[0m\u001b[0;34m.\u001b[0m\u001b[0mimread\u001b[0m\u001b[0;34m(\u001b[0m\u001b[0mpath\u001b[0m\u001b[0;34m,\u001b[0m \u001b[0mcv2\u001b[0m\u001b[0;34m.\u001b[0m\u001b[0mIMREAD_UNCHANGED\u001b[0m\u001b[0;34m)\u001b[0m\u001b[0;34m\u001b[0m\u001b[0;34m\u001b[0m\u001b[0m\n\u001b[0m\u001b[1;32m     28\u001b[0m     \u001b[0;31m#calculate the 50 percent of original dimensions\u001b[0m\u001b[0;34m\u001b[0m\u001b[0;34m\u001b[0m\u001b[0;34m\u001b[0m\u001b[0m\n\u001b[1;32m     29\u001b[0m     \u001b[0mwidth\u001b[0m \u001b[0;34m=\u001b[0m\u001b[0;36m200\u001b[0m \u001b[0;31m# int(src.shape[1] * scale_percent / 100)\u001b[0m\u001b[0;34m\u001b[0m\u001b[0;34m\u001b[0m\u001b[0m\n",
      "\u001b[0;31mKeyboardInterrupt\u001b[0m: "
     ]
    }
   ],
   "source": [
    "\n",
    "files = os.listdir('/tmp/camera-trap/W1A')\n",
    "files =  ['/tmp/camera-trap/W1A/' + str(f) for f in files]\n",
    "\n",
    "df = pd.DataFrame([],\n",
    "                   columns=['date','photo_id','time','datetime','depth'])\n",
    "for i in range(0,len(files)): \n",
    "    \n",
    "    img = Image.open(files[i])\n",
    "    exif = { ExifTags.TAGS[k]: v for k, v in img._getexif().items() if k in ExifTags.TAGS }\n",
    "    exif['DateTime'] = datetime.strptime(exif['DateTime'],'%Y:%m:%d %H:%M:%S')\n",
    "    df.loc[i]= [exif['DateTime'].date(),\n",
    "                       files[i],\n",
    "                       exif['DateTime'].time(),exif['DateTime'],np.nan]\n",
    "for i in range(len(df)):\n",
    "    pivot = df['datetime'][i]\n",
    "    items = df_veg['datetime']\n",
    "    tmp = np.where(items==pivot)[0]\n",
    "    if len(np.where(items==pivot)[0])>0:\n",
    "        idx = tmp[0]\n",
    "        df['depth'][i] = df_veg['value'][idx]\n",
    "\n",
    "pixels = []      \n",
    "for i in range(0, len(df)):\n",
    "    # img = cv2.imread(str(path)+\"/\"+str(img))\n",
    "    # src = Image.open(str(path)+\"/\"+str(img))\n",
    "    path = df['photo_id'][i]\n",
    "    src = cv2.imread(path, cv2.IMREAD_UNCHANGED)\n",
    "    #calculate the 50 percent of original dimensions\n",
    "    width =200 # int(src.shape[1] * scale_percent / 100)\n",
    "    height = 200 # int(src.shape[0] * scale_percent / 100)\n",
    "    # dsize\n",
    "    dsize = (width, height)\n",
    "    # resize image\n",
    "    output = cv2.resize(src, dsize)\n",
    "    cv2.imwrite('tmp.jpg',output) \n",
    "    # img1 = img.save('tmp', format='JPEG',dpi=(50,50))\n",
    "    img2 = cv2.imread('tmp.jpg')\n",
    "    img2 = cv2.cvtColor(img2,cv2.COLOR_BGR2RGB)\n",
    "    pixels.append(np.array(img2))\n",
    "\n",
    "pixels = np.array(pixels)\n",
    "\n"
   ]
  },
  {
   "cell_type": "code",
   "execution_count": 80,
   "id": "thirty-grain",
   "metadata": {},
   "outputs": [],
   "source": [
    "#np.save('pixels_open.npy',pixels)\n",
    "pixels=np.load('pixels_open.npy')"
   ]
  },
  {
   "cell_type": "code",
   "execution_count": 81,
   "id": "adverse-tamil",
   "metadata": {},
   "outputs": [],
   "source": [
    "# Use the function to see what columns are available to use. \n",
    "db_columns = get_table_attributes(PointData)\n",
    "\n",
    "# Print out the results nicely\n",
    "# print(\"These are the available columns in the table:\\n \\n* {}\\n\".format('\\n* '.join(db_columns)))\n",
    "\n",
    "# Grab the open site data from the db\n",
    "open_site = 'W1A'\n",
    "veg_site = 'W9A'\n",
    "qry = session.query(PointData).filter(PointData.equipment.contains(open_site))\n",
    "df_open = query_to_geopandas(qry,engine)\n",
    "\n",
    "# Grab the vegetated site from the db\n",
    "qry = session.query(PointData).filter(PointData.equipment.contains(veg_site))\n",
    "df_veg = query_to_geopandas(qry,engine)"
   ]
  },
  {
   "cell_type": "code",
   "execution_count": 82,
   "id": "established-investigator",
   "metadata": {},
   "outputs": [
    {
     "name": "stderr",
     "output_type": "stream",
     "text": [
      "<ipython-input-82-39e47349d0a4>:21: SettingWithCopyWarning: \n",
      "A value is trying to be set on a copy of a slice from a DataFrame\n",
      "\n",
      "See the caveats in the documentation: https://pandas.pydata.org/pandas-docs/stable/user_guide/indexing.html#returning-a-view-versus-a-copy\n",
      "  df['depth'][i] = df_open['value'][idx]\n"
     ]
    }
   ],
   "source": [
    "df = pd.DataFrame([],\n",
    "                   columns=['date','photo_id','time','datetime','depth'])\n",
    "for i in range(0,len(files)): \n",
    "    \n",
    "    img = Image.open(files[i])\n",
    "    exif = { ExifTags.TAGS[k]: v for k, v in img._getexif().items() if k in ExifTags.TAGS }\n",
    "    exif['DateTime'] = datetime.strptime(exif['DateTime'],'%Y:%m:%d %H:%M:%S')\n",
    "    df.loc[i]= [exif['DateTime'].date(),\n",
    "                       files[i],\n",
    "                       exif['DateTime'].time(),exif['DateTime'],np.nan]\n",
    "    \n",
    "df_open['datetime'] = [datetime.combine(df_open['date'][i],df_open['time'][i]).replace(tzinfo=None) for i in range(len(df_open))]\n",
    "\n",
    "\n",
    "for i in range(len(df)):\n",
    "    pivot = df['datetime'][i]\n",
    "    items = df_open['datetime']\n",
    "    tmp = np.where(items==pivot)[0]\n",
    "    if len(np.where(items==pivot)[0])>0:\n",
    "        idx = tmp[0]\n",
    "        df['depth'][i] = df_open['value'][idx]"
   ]
  },
  {
   "cell_type": "code",
   "execution_count": 83,
   "id": "focal-split",
   "metadata": {},
   "outputs": [
    {
     "data": {
      "text/plain": [
       "319"
      ]
     },
     "execution_count": 83,
     "metadata": {},
     "output_type": "execute_result"
    }
   ],
   "source": [
    "len(df.loc[df['depth']>0])"
   ]
  },
  {
   "cell_type": "code",
   "execution_count": 84,
   "id": "mighty-rocket",
   "metadata": {},
   "outputs": [
    {
     "data": {
      "text/plain": [
       "[<matplotlib.lines.Line2D at 0x7f1348420f70>]"
      ]
     },
     "execution_count": 84,
     "metadata": {},
     "output_type": "execute_result"
    },
    {
     "data": {
      "image/png": "[encoded data removed]",
      "text/plain": [
       "<Figure size 432x288 with 1 Axes>"
      ]
     },
     "metadata": {
      "needs_background": "light"
     },
     "output_type": "display_data"
    }
   ],
   "source": [
    "plt.plot(df['datetime'],df['depth'],'o')"
   ]
  },
  {
   "cell_type": "code",
   "execution_count": 85,
   "id": "european-respect",
   "metadata": {},
   "outputs": [],
   "source": [
    "dataset = pixels.reshape((659,-1))\n",
    "dataset = np.concatenate((dataset, np.array(df['depth']).reshape((659,1))),axis=1)\n",
    "dataset=pd.DataFrame(dataset)"
   ]
  },
  {
   "cell_type": "code",
   "execution_count": 88,
   "id": "vocational-venice",
   "metadata": {},
   "outputs": [],
   "source": [
    "train_dataset = dataset.sample(frac=0.8, random_state=0)\n",
    "test_dataset = dataset.drop(train_dataset.index)"
   ]
  },
  {
   "cell_type": "code",
   "execution_count": 90,
   "id": "metropolitan-impossible",
   "metadata": {},
   "outputs": [],
   "source": [
    "scaler = MinMaxScaler()\n",
    "scaled_train = scaler.fit_transform(train_dataset)\n",
    "scaled_test = scaler.transform(test_dataset) ## fit_transform != transform. \n",
    "                                             ## transform uses the parameters of fit_transform"
   ]
  },
  {
   "cell_type": "code",
   "execution_count": 91,
   "id": "listed-rebound",
   "metadata": {},
   "outputs": [],
   "source": [
    "train_X, train_y = scaled_train[:, :-1], scaled_train[:, -1]\n",
    "test_X, test_y = scaled_test[:, :-1], scaled_test[:, -1]"
   ]
  },
  {
   "cell_type": "code",
   "execution_count": 92,
   "id": "supposed-railway",
   "metadata": {},
   "outputs": [],
   "source": [
    "tf.random.set_seed(0) ## For reproducible results\n",
    "linear_regression = tf.keras.models.Sequential() # Specify layers in their sequential order\n",
    "# inputs are 4 dimensions (4 dimensions = 4 features)\n",
    "# Dense = Fully Connected.  \n",
    "linear_regression.add(tf.keras.layers.Dense(1, activation=None ,input_shape=(train_X.shape[1],)))\n",
    "# Output layer has no activation with just 1 node"
   ]
  },
  {
   "cell_type": "code",
   "execution_count": 93,
   "id": "decimal-deadline",
   "metadata": {},
   "outputs": [],
   "source": [
    "opt = tf.keras.optimizers.Adam(learning_rate=0.0001)\n",
    "linear_regression.compile(optimizer = opt, loss='mean_squared_error')"
   ]
  },
  {
   "cell_type": "code",
   "execution_count": 94,
   "id": "anonymous-contributor",
   "metadata": {},
   "outputs": [
    {
     "name": "stdout",
     "output_type": "stream",
     "text": [
      "Model: \"sequential_1\"\n",
      "_________________________________________________________________\n",
      "Layer (type)                 Output Shape              Param #   \n",
      "=================================================================\n",
      "dense (Dense)                (None, 1)                 120001    \n",
      "=================================================================\n",
      "Total params: 120,001\n",
      "Trainable params: 120,001\n",
      "Non-trainable params: 0\n",
      "_________________________________________________________________\n",
      "None\n"
     ]
    }
   ],
   "source": [
    "print(linear_regression.summary())"
   ]
  },
  {
   "cell_type": "code",
   "execution_count": 95,
   "id": "distant-commitment",
   "metadata": {},
   "outputs": [
    {
     "name": "stdout",
     "output_type": "stream",
     "text": [
      "CPU times: user 58.6 s, sys: 59.5 s, total: 1min 58s\n",
      "Wall time: 59.7 s\n"
     ]
    }
   ],
   "source": [
    "%%time\n",
    "# NOTE: can changed from epochs=150 to run faster, change to verbose=1 for per-epoch output\n",
    "history =linear_regression.fit(train_X, train_y, epochs=100, validation_split = 0.2, verbose=0)"
   ]
  },
  {
   "cell_type": "code",
   "execution_count": 96,
   "id": "existing-surprise",
   "metadata": {},
   "outputs": [
    {
     "data": {
      "image/png": "[encoded data removed]",
      "text/plain": [
       "<Figure size 432x288 with 1 Axes>"
      ]
     },
     "metadata": {
      "needs_background": "light"
     },
     "output_type": "display_data"
    }
   ],
   "source": [
    "plt.plot(history.history['loss'], label='Training loss')\n",
    "plt.plot(history.history['val_loss'], label='Validation loss')\n",
    "plt.xlabel('Epoch')\n",
    "plt.legend()\n",
    "plt.grid(True)"
   ]
  },
  {
   "cell_type": "markdown",
   "id": "finnish-monte",
   "metadata": {},
   "source": [
    "## now moving to neural net"
   ]
  },
  {
   "cell_type": "code",
   "execution_count": 97,
   "id": "frozen-wrestling",
   "metadata": {},
   "outputs": [],
   "source": [
    "tf.random.set_seed(1000)  ## For reproducible results\n",
    "network = tf.keras.models.Sequential() # Specify layers in their sequential order\n",
    "# inputs are 4 dimensions (4 dimensions = 4 features)\n",
    "# Dense = Fully Connected.   \n",
    "# First hidden layer has 1000 neurons with relu activations.\n",
    "# Second hidden layer has 512 neurons with relu activations\n",
    "# Third hidden layer has 256 neurons with Sigmoid activations\n",
    "network.add(tf.keras.layers.Dense(1000, activation='relu' ,input_shape=(train_X.shape[1],)))\n",
    "network.add(tf.keras.layers.Dense(512, activation='relu')) # sigmoid, tanh\n",
    "network.add(tf.keras.layers.Dense(256, activation='sigmoid'))\n",
    "# Output layer uses no activation with 1 output neurons\n",
    "network.add(tf.keras.layers.Dense(1)) # Output layer"
   ]
  },
  {
   "cell_type": "code",
   "execution_count": 98,
   "id": "extra-helicopter",
   "metadata": {},
   "outputs": [],
   "source": [
    "opt = tf.keras.optimizers.Adam(learning_rate=0.0001)\n",
    "network.compile(optimizer = opt, loss='mean_squared_error')"
   ]
  },
  {
   "cell_type": "code",
   "execution_count": null,
   "id": "formed-delight",
   "metadata": {},
   "outputs": [],
   "source": [
    "%%time\n",
    "\n",
    "# NOTE: if you have time, consider upping epochs -> 150\n",
    "history =network.fit(train_X, train_y, epochs=20, validation_split = 0.2, verbose=0)"
   ]
  },
  {
   "cell_type": "code",
   "execution_count": null,
   "id": "gross-turkish",
   "metadata": {},
   "outputs": [],
   "source": [
    "plt.plot(history.history['loss'], label='Training loss')\n",
    "plt.plot(history.history['val_loss'], label='Validation loss')\n",
    "plt.xlabel('Epoch')\n",
    "plt.ylabel('Error')\n",
    "plt.legend()\n",
    "plt.grid(True)"
   ]
  },
  {
   "cell_type": "code",
   "execution_count": null,
   "id": "conscious-burning",
   "metadata": {},
   "outputs": [],
   "source": [
    "## Linear Regression\n",
    "\n",
    "yhat_linReg = linear_regression.predict(test_X)\n",
    "inv_yhat_linReg = np.concatenate((test_X, yhat_linReg), axis=1)\n",
    "inv_yhat_linReg = scaler.inverse_transform(inv_yhat_linReg)\n",
    "inv_yhat_linReg = inv_yhat_linReg[:,-1]\n",
    "\n",
    "## DNN\n",
    "yhat_dnn = network.predict(test_X) \n",
    "inv_yhat_dnn = np.concatenate((test_X, yhat_dnn), axis=1)\n",
    "inv_yhat_dnn = scaler.inverse_transform(inv_yhat_dnn)\n",
    "inv_yhat_dnn = inv_yhat_dnn[:,-1]\n",
    "\n",
    "## True Snow Depth (Test Set)\n",
    "inv_y = test_dataset[\"snow_depth\"]\n",
    "\n",
    "\n",
    "## Put Observed and Predicted (Linear Regression and DNN) in a Dataframe\n",
    "prediction_df = pd.DataFrame({\"Observed\": inv_y,\n",
    "                    \"LR\":inv_yhat_linReg, \"DNN\":inv_yhat_dnn})"
   ]
  },
  {
   "cell_type": "code",
   "execution_count": null,
   "id": "adult-minority",
   "metadata": {},
   "outputs": [],
   "source": [
    "def metrics_print(test_data,test_predict):\n",
    "    print('Test RMSE: ', round(np.sqrt(mean_squared_error(test_data, test_predict)), 2))\n",
    "    print('Test R^2 : ', round((r2_score(test_data, test_predict)*100), 2) ,\"%\")\n",
    "    print('Test MAPE: ', round(mean_absolute_percentage_error(test_data, test_predict)*100,2), '%')"
   ]
  },
  {
   "cell_type": "code",
   "execution_count": null,
   "id": "precious-substitute",
   "metadata": {},
   "outputs": [],
   "source": [
    "print(\"##************** Linear Regression Results **************##\")\n",
    "metrics_print(prediction_df['Observed'], prediction_df['LR'])\n",
    "print(\" \")\n",
    "print(\" \")\n",
    "\n",
    "print(\"##************** Deep Learning Results **************##\")\n",
    "metrics_print(prediction_df['Observed'], prediction_df['DNN'])\n",
    "print(\" \")\n",
    "print(\" \")"
   ]
  },
  {
   "cell_type": "code",
   "execution_count": null,
   "id": "future-instrument",
   "metadata": {},
   "outputs": [],
   "source": [
    "fa = plt.figure(figsize=(16,5))\n",
    "plt.subplot(1,2,1)\n",
    "plt.scatter(prediction_df['Observed'],prediction_df['LR'])\n",
    "plt.xlabel('True Values [snow_depth]', fontsize=15)\n",
    "plt.ylabel('Predictions [snow_depth]', fontsize=15)\n",
    "plt.title(\"Linear Regression\")\n",
    "\n",
    "\n",
    "plt.subplot(1,2,2)\n",
    "plt.scatter(prediction_df['Observed'],prediction_df['DNN'])\n",
    "plt.xlabel('True Values [snow_depth]', fontsize=15)\n",
    "plt.ylabel('Predictions [snow_depth]', fontsize=15)\n",
    "plt.title(\"Deep Neural Network\")\n"
   ]
  },
  {
   "cell_type": "code",
   "execution_count": null,
   "id": "southwest-terrorist",
   "metadata": {},
   "outputs": [],
   "source": [
    "LR_error = prediction_df['Observed'] - prediction_df['LR']\n",
    "DNN_error = prediction_df['Observed'] - prediction_df['DNN']\n",
    "\n",
    "fa = plt.figure(figsize=(16,5))\n",
    "\n",
    "plt.subplot(1,2,1)\n",
    "LR_error.hist()\n",
    "plt.xlabel('Error', fontsize=15)\n",
    "plt.ylabel('Frequency', fontsize=15)\n",
    "plt.title(\"Linear Regression\")\n",
    "\n",
    "plt.subplot(1,2,2)\n",
    "DNN_error.hist()\n",
    "plt.xlabel('Error', fontsize=15)\n",
    "plt.ylabel('Frequency', fontsize=15)\n",
    "plt.title(\"Deep Neural Network\")"
   ]
  }
 ],
 "metadata": {
  "kernelspec": {
   "display_name": "Python 3",
   "language": "python",
   "name": "python3"
  },
  "language_info": {
   "codemirror_mode": {
    "name": "ipython",
    "version": 3
   },
   "file_extension": ".py",
   "mimetype": "text/x-python",
   "name": "python",
   "nbconvert_exporter": "python",
   "pygments_lexer": "ipython3",
   "version": "3.8.8"
  }
 },
 "nbformat": 4,
 "nbformat_minor": 5
}
