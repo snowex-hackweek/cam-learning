{
 "cells": [
  {
   "cell_type": "code",
   "execution_count": 1,
   "id": "combined-blend",
   "metadata": {},
   "outputs": [],
   "source": [
    "!aws s3 sync --no-progress s3://snowex-data/tutorial-data/camera-trap/ /tmp/camera-trap"
   ]
  },
  {
   "cell_type": "code",
   "execution_count": 5,
   "id": "rubber-examination",
   "metadata": {},
   "outputs": [],
   "source": [
    "# !pip install pigeon-jupyter"
   ]
  },
  {
   "cell_type": "code",
   "execution_count": 15,
   "id": "adaptive-orbit",
   "metadata": {},
   "outputs": [],
   "source": [
    "from pigeon import annotate\n",
    "import numpy as np\n",
    "import pandas as pd\n",
    "import matplotlib.pyplot as plt\n",
    "import matplotlib.image as mpimg\n",
    "import glob as gb\n",
    "from IPython.display import Image, display"
   ]
  },
  {
   "cell_type": "code",
   "execution_count": 27,
   "id": "patent-washington",
   "metadata": {},
   "outputs": [
    {
     "name": "stdout",
     "output_type": "stream",
     "text": [
      "/tmp/camera-trap/W9A/WSCT0132.JPG\n"
     ]
    }
   ],
   "source": [
    "print(annotated_img)"
   ]
  },
  {
   "cell_type": "code",
   "execution_count": 39,
   "id": "civilian-elements",
   "metadata": {},
   "outputs": [
    {
     "data": {
      "text/plain": [
       "'/tmp/camera-trap/W9A/WSCT0136.JPG'"
      ]
     },
     "execution_count": 39,
     "metadata": {},
     "output_type": "execute_result"
    }
   ],
   "source": [
    "imgname"
   ]
  },
  {
   "cell_type": "code",
   "execution_count": 40,
   "id": "respiratory-eugene",
   "metadata": {},
   "outputs": [
    {
     "data": {
      "text/plain": [
       "'/tmp/camera-trap/W9A/WSCT0132.JPG'"
      ]
     },
     "execution_count": 40,
     "metadata": {},
     "output_type": "execute_result"
    }
   ],
   "source": [
    "annotated_img"
   ]
  },
  {
   "cell_type": "code",
   "execution_count": 46,
   "id": "placed-medicine",
   "metadata": {},
   "outputs": [
    {
     "data": {
      "text/plain": [
       "0      /tmp/camera-trap/W9A/WSCT0005.JPG\n",
       "1      /tmp/camera-trap/W9A/WSCT0006.JPG\n",
       "2      /tmp/camera-trap/W9A/WSCT0007.JPG\n",
       "3      /tmp/camera-trap/W9A/WSCT0008.JPG\n",
       "4      /tmp/camera-trap/W9A/WSCT0009.JPG\n",
       "                     ...                \n",
       "121    /tmp/camera-trap/W9A/WSCT0128.JPG\n",
       "122    /tmp/camera-trap/W9A/WSCT0129.JPG\n",
       "123    /tmp/camera-trap/W9A/WSCT0130.JPG\n",
       "124    /tmp/camera-trap/W9A/WSCT0131.JPG\n",
       "125    /tmp/camera-trap/W9A/WSCT0132.JPG\n",
       "Name: Image, Length: 126, dtype: object"
      ]
     },
     "execution_count": 46,
     "metadata": {},
     "output_type": "execute_result"
    }
   ],
   "source": [
    "df.Image"
   ]
  },
  {
   "cell_type": "code",
   "execution_count": 48,
   "id": "administrative-bishop",
   "metadata": {},
   "outputs": [
    {
     "name": "stdout",
     "output_type": "stream",
     "text": [
      "/tmp/camera-trap/W9A/WSCT0063.JPG\n",
      "/tmp/camera-trap/W9A/WSCT0080.JPG\n",
      "/tmp/camera-trap/W9A/WSCT0133.JPG\n",
      "/tmp/camera-trap/W9A/WSCT0134.JPG\n",
      "/tmp/camera-trap/W9A/WSCT0135.JPG\n",
      "/tmp/camera-trap/W9A/WSCT0136.JPG\n"
     ]
    }
   ],
   "source": [
    "skipped_images = []\n",
    "for imgname in img_temp[0:132]:\n",
    "    if imgname not in list(df.Image):\n",
    "        print(imgname)\n",
    "        skipped_images.append(imgname)"
   ]
  },
  {
   "cell_type": "code",
   "execution_count": 49,
   "id": "essential-calgary",
   "metadata": {},
   "outputs": [
    {
     "data": {
      "text/plain": [
       "{'/tmp/camera-trap/W9A/WSCT0063.JPG',\n",
       " '/tmp/camera-trap/W9A/WSCT0080.JPG',\n",
       " '/tmp/camera-trap/W9A/WSCT0133.JPG',\n",
       " '/tmp/camera-trap/W9A/WSCT0134.JPG',\n",
       " '/tmp/camera-trap/W9A/WSCT0135.JPG',\n",
       " '/tmp/camera-trap/W9A/WSCT0136.JPG'}"
      ]
     },
     "execution_count": 49,
     "metadata": {},
     "output_type": "execute_result"
    }
   ],
   "source": [
    "set(skipped_images)"
   ]
  },
  {
   "cell_type": "code",
   "execution_count": 51,
   "id": "minute-crisis",
   "metadata": {},
   "outputs": [
    {
     "data": {
      "text/plain": [
       "array(['/tmp/camera-trap/W9A/WSCT0063.JPG',\n",
       "       '/tmp/camera-trap/W9A/WSCT0080.JPG',\n",
       "       '/tmp/camera-trap/W9A/WSCT0133.JPG',\n",
       "       '/tmp/camera-trap/W9A/WSCT0134.JPG',\n",
       "       '/tmp/camera-trap/W9A/WSCT0135.JPG',\n",
       "       '/tmp/camera-trap/W9A/WSCT0136.JPG'], dtype='<U33')"
      ]
     },
     "execution_count": 51,
     "metadata": {},
     "output_type": "execute_result"
    }
   ],
   "source": [
    "skipped_df = pd.DataFrame(np.array(skipped_images), columns= ['Image','Class']) \n"
   ]
  },
  {
   "cell_type": "code",
   "execution_count": 10,
   "id": "brazilian-begin",
   "metadata": {},
   "outputs": [],
   "source": [
    "img_temp = []\n",
    "for i in range(5,661):\n",
    "    temp = '/tmp/camera-trap/W9A/WSCT' + str(i).zfill(4) + '.JPG'\n",
    "    img_temp.append(temp)"
   ]
  },
  {
   "cell_type": "code",
   "execution_count": 16,
   "id": "genuine-issue",
   "metadata": {},
   "outputs": [
    {
     "data": {
      "application/vnd.jupyter.widget-view+json": {
       "model_id": "eecadfd710264e249aaf3f3164974e1a",
       "version_major": 2,
       "version_minor": 0
      },
      "text/plain": [
       "HTML(value='0 examples annotated, 133 examples left')"
      ]
     },
     "metadata": {},
     "output_type": "display_data"
    },
    {
     "data": {
      "application/vnd.jupyter.widget-view+json": {
       "model_id": "9dc37051c70d497aa349d4062cbdb7d0",
       "version_major": 2,
       "version_minor": 0
      },
      "text/plain": [
       "HBox(children=(Button(description='snow-off', style=ButtonStyle()), Button(description='snow-on', style=Button…"
      ]
     },
     "metadata": {},
     "output_type": "display_data"
    },
    {
     "data": {
      "application/vnd.jupyter.widget-view+json": {
       "model_id": "63c45238bbcf4139bc99d543221e8302",
       "version_major": 2,
       "version_minor": 0
      },
      "text/plain": [
       "Output()"
      ]
     },
     "metadata": {},
     "output_type": "display_data"
    }
   ],
   "source": [
    "annotations_j = annotate(\n",
    "    img_temp[0:132],\n",
    "    options = ['snow-off', 'snow-on'],\n",
    "    display_fn = lambda filename: display(Image(filename,width=800, height=600)))"
   ]
  },
  {
   "cell_type": "code",
   "execution_count": 50,
   "id": "treated-minnesota",
   "metadata": {},
   "outputs": [],
   "source": [
    "# annotations_j"
   ]
  },
  {
   "cell_type": "code",
   "execution_count": 18,
   "id": "through-norfolk",
   "metadata": {},
   "outputs": [],
   "source": [
    "annotations_j = np.array(annotations_j) # converts list to numpy array\\n\",\n",
    "df = pd.DataFrame(annotations_j, columns= ['Image','Class']) "
   ]
  },
  {
   "cell_type": "code",
   "execution_count": 20,
   "id": "celtic-bracelet",
   "metadata": {},
   "outputs": [],
   "source": [
    "df.to_csv('annotations_j.csv', index =False)"
   ]
  },
  {
   "cell_type": "code",
   "execution_count": null,
   "id": "surgical-burlington",
   "metadata": {},
   "outputs": [],
   "source": []
  }
 ],
 "metadata": {
  "kernelspec": {
   "display_name": "Python 3",
   "language": "python",
   "name": "python3"
  },
  "language_info": {
   "codemirror_mode": {
    "name": "ipython",
    "version": 3
   },
   "file_extension": ".py",
   "mimetype": "text/x-python",
   "name": "python",
   "nbconvert_exporter": "python",
   "pygments_lexer": "ipython3",
   "version": "3.8.8"
  }
 },
 "nbformat": 4,
 "nbformat_minor": 5
}
