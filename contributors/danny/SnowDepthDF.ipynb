{
 "cells": [
  {
   "cell_type": "code",
   "execution_count": 1,
   "id": "configured-broad",
   "metadata": {},
   "outputs": [],
   "source": [
    "import snowexsql.db\n",
    "from snowexsql.db import get_db\n",
    "from snowexsql.data import PointData, SiteData\n",
    "from snowexsql.conversions import query_to_geopandas\n",
    "\n",
    "import geopandas as gpd\n",
    "import matplotlib.pyplot as plt\n",
    "import pandas as pd\n",
    "import numpy as np\n",
    "from datetime import datetime\n",
    "\n",
    "import os, sys\n",
    "\n",
    "from PIL import Image, ExifTags\n",
    "import os\n",
    "wd = os.getcwd()\n",
    "print(\"Current WD: {}\".format(wd))"
   ]
  },
  {
   "cell_type": "code",
   "execution_count": 36,
   "id": "nutritional-wrong",
   "metadata": {},
   "outputs": [],
   "source": [
    "# used another output suprpession found here: https://www.codeforests.com/2020/11/05/python-suppress-stdout-and-stderr/\n",
    "\n",
    "class suppress_output:\n",
    "    def __init__(self, suppress_stdout=False, suppress_stderr=False):\n",
    "        self.suppress_stdout = suppress_stdout\n",
    "        self.suppress_stderr = suppress_stderr\n",
    "        self._stdout = None\n",
    "        self._stderr = None\n",
    "\n",
    "    def __enter__(self):\n",
    "        devnull = open(os.devnull, \"w\")\n",
    "        if self.suppress_stdout:\n",
    "            self._stdout = sys.stdout\n",
    "            sys.stdout = devnull\n",
    "\n",
    "        if self.suppress_stderr:\n",
    "            self._stderr = sys.stderr\n",
    "            sys.stderr = devnull\n",
    "\n",
    "    def __exit__(self, *args):\n",
    "        if self.suppress_stdout:\n",
    "            sys.stdout = self._stdout\n",
    "        if self.suppress_stderr:\n",
    "            sys.stderr = self._stderr\n",
    "            \n",
    "with suppress_output(suppress_stdout=True, suppress_stderr=False):\n",
    "    !aws s3 sync --no-progress s3://snowex-data/tutorial-data/camera-trap/ ./cropped"
   ]
  },
  {
   "cell_type": "code",
   "execution_count": 7,
   "id": "offensive-shaft",
   "metadata": {},
   "outputs": [],
   "source": [
    "# Connect to the database\n",
    "db_name = 'snow:hackweek@52.32.183.144/snowex'\n",
    "engine, session = get_db(db_name)\n",
    "\n",
    "# Grab all the point data that was that was measured with a camera-trap\n",
    "qry = session.query(PointData)\n",
    "qry = qry.filter(PointData.instrument == 'camera-trap')\n",
    "\n",
    "# Convert it to a geopandas df\n",
    "camera_depths = query_to_geopandas(qry, engine)\n",
    "\n",
    "# Grab all the unique pits geometry objects (locations)\n",
    "qry = session.query(SiteData.geom).distinct()\n",
    "pits = query_to_geopandas(qry, engine)\n",
    "\n",
    "# End our database session to avoid hanging transactions\n",
    "session.close()"
   ]
  },
  {
   "cell_type": "code",
   "execution_count": 8,
   "id": "theoretical-standing",
   "metadata": {},
   "outputs": [],
   "source": [
    "from datetime import datetime\n",
    "# Grab the open site data from the db\n",
    "open_site = 'W1A'\n",
    "veg_site = 'W9A'\n",
    "qry = session.query(PointData).filter(PointData.equipment.contains(open_site))\n",
    "df_open = query_to_geopandas(qry,engine)\n",
    "\n",
    "# Grab the vegetated site from the db\n",
    "qry = session.query(PointData).filter(PointData.equipment.contains(veg_site))\n",
    "df_veg = query_to_geopandas(qry,engine)\n",
    "\n",
    "df_veg['datetime'] = [datetime.combine(df_veg['date'][i],df_veg['time'][i]).replace(tzinfo=None) for i in range(len(df_veg))]\n",
    "df_open['datetime'] = [datetime.combine(df_open['date'][i],df_open['time'][i]).replace(tzinfo=None) for i in range(len(df_open))]\n",
    "df_tomerge = df_open[['date','datetime','value']]"
   ]
  },
  {
   "cell_type": "code",
   "execution_count": 57,
   "id": "worth-hampshire",
   "metadata": {},
   "outputs": [
    {
     "name": "stdout",
     "output_type": "stream",
     "text": [
      "659\n"
     ]
    }
   ],
   "source": [
    "site_loc = 'W1A'\n",
    "path, dirs, files = next(os.walk('/'.join([wd,f\"cropped/{site_loc}\"])))\n",
    "file_count = len(files)\n",
    "image_data = []\n",
    "\n",
    "print(file_count)"
   ]
  },
  {
   "cell_type": "code",
   "execution_count": 58,
   "id": "romance-following",
   "metadata": {},
   "outputs": [
    {
     "data": {
      "text/html": [
       "<div>\n",
       "<style scoped>\n",
       "    .dataframe tbody tr th:only-of-type {\n",
       "        vertical-align: middle;\n",
       "    }\n",
       "\n",
       "    .dataframe tbody tr th {\n",
       "        vertical-align: top;\n",
       "    }\n",
       "\n",
       "    .dataframe thead th {\n",
       "        text-align: right;\n",
       "    }\n",
       "</style>\n",
       "<table border=\"1\" class=\"dataframe\">\n",
       "  <thead>\n",
       "    <tr style=\"text-align: right;\">\n",
       "      <th></th>\n",
       "      <th>photo_id</th>\n",
       "      <th>datetime</th>\n",
       "    </tr>\n",
       "    <tr>\n",
       "      <th>date</th>\n",
       "      <th></th>\n",
       "      <th></th>\n",
       "    </tr>\n",
       "  </thead>\n",
       "  <tbody>\n",
       "    <tr>\n",
       "      <th>2020-04-23</th>\n",
       "      <td>/home/jovyan/cam-learning/contributors/danny/c...</td>\n",
       "      <td>2020-04-23 12:00:00</td>\n",
       "    </tr>\n",
       "    <tr>\n",
       "      <th>2019-11-06</th>\n",
       "      <td>/home/jovyan/cam-learning/contributors/danny/c...</td>\n",
       "      <td>2019-11-06 11:00:00</td>\n",
       "    </tr>\n",
       "    <tr>\n",
       "      <th>2020-01-06</th>\n",
       "      <td>/home/jovyan/cam-learning/contributors/danny/c...</td>\n",
       "      <td>2020-01-06 11:00:01</td>\n",
       "    </tr>\n",
       "    <tr>\n",
       "      <th>2020-01-15</th>\n",
       "      <td>/home/jovyan/cam-learning/contributors/danny/c...</td>\n",
       "      <td>2020-01-15 12:00:01</td>\n",
       "    </tr>\n",
       "    <tr>\n",
       "      <th>2020-08-06</th>\n",
       "      <td>/home/jovyan/cam-learning/contributors/danny/c...</td>\n",
       "      <td>2020-08-06 11:00:00</td>\n",
       "    </tr>\n",
       "  </tbody>\n",
       "</table>\n",
       "</div>"
      ],
      "text/plain": [
       "                                                     photo_id  \\\n",
       "date                                                            \n",
       "2020-04-23  /home/jovyan/cam-learning/contributors/danny/c...   \n",
       "2019-11-06  /home/jovyan/cam-learning/contributors/danny/c...   \n",
       "2020-01-06  /home/jovyan/cam-learning/contributors/danny/c...   \n",
       "2020-01-15  /home/jovyan/cam-learning/contributors/danny/c...   \n",
       "2020-08-06  /home/jovyan/cam-learning/contributors/danny/c...   \n",
       "\n",
       "                      datetime  \n",
       "date                            \n",
       "2020-04-23 2020-04-23 12:00:00  \n",
       "2019-11-06 2019-11-06 11:00:00  \n",
       "2020-01-06 2020-01-06 11:00:01  \n",
       "2020-01-15 2020-01-15 12:00:01  \n",
       "2020-08-06 2020-08-06 11:00:00  "
      ]
     },
     "execution_count": 58,
     "metadata": {},
     "output_type": "execute_result"
    }
   ],
   "source": [
    "for i,file in enumerate(files):\n",
    "    # save image path\n",
    "    filename = f'/cropped/{site_loc}/'.join([wd,file])\n",
    "    # open image file and extract metadat\n",
    "    img = Image.open(filename) \n",
    "    exif = { ExifTags.TAGS[k]: v for k, v in img._getexif().items() if k in ExifTags.TAGS }\n",
    "    # convert date and time to datetime\n",
    "    exif['DateTime'] = datetime.strptime(exif['DateTime'],'%Y:%m:%d %H:%M:%S')\n",
    "    # append list of tuples (not sure if this is any more efficient)\n",
    "    image_data.append((exif['DateTime'].date(), filename, exif['DateTime']))\n",
    "# create image dataframe    \n",
    "\n",
    "\n",
    " \n",
    "# Shows the image in image viewer\n",
    "df = pd.DataFrame(image_data,columns=['date','photo_id','datetime']).set_index('date')\n",
    "df = pd.DataFrame(image_data,columns=['date','photo_id','datetime']).set_index('date')\n",
    "df.head()"
   ]
  },
  {
   "cell_type": "code",
   "execution_count": 59,
   "id": "latest-medication",
   "metadata": {},
   "outputs": [
    {
     "data": {
      "text/plain": [
       "6      /home/jovyan/cam-learning/contributors/danny/c...\n",
       "356    /home/jovyan/cam-learning/contributors/danny/c...\n",
       "443    /home/jovyan/cam-learning/contributors/danny/c...\n",
       "145    /home/jovyan/cam-learning/contributors/danny/c...\n",
       "119    /home/jovyan/cam-learning/contributors/danny/c...\n",
       "                             ...                        \n",
       "40     /home/jovyan/cam-learning/contributors/danny/c...\n",
       "463    /home/jovyan/cam-learning/contributors/danny/c...\n",
       "615    /home/jovyan/cam-learning/contributors/danny/c...\n",
       "118    /home/jovyan/cam-learning/contributors/danny/c...\n",
       "292    /home/jovyan/cam-learning/contributors/danny/c...\n",
       "Name: photo_id, Length: 338, dtype: object"
      ]
     },
     "execution_count": 59,
     "metadata": {},
     "output_type": "execute_result"
    }
   ],
   "source": [
    "df_snow = df.merge(df_tomerge, on='datetime', how='left')\n",
    "df_snow = df_snow.rename(columns={'value':'depth'})\n",
    "df_snow = df_snow[~df_snow['depth'].isnull()]\n",
    "df_snow['depth'] = df_snow['depth'].clip(lower=0)\n",
    "df_snow = df_snow.sort_values(by=['date'])\n",
    "df_snow = df_snow.reindex()\n",
    "df_snow['photo_id']"
   ]
  },
  {
   "cell_type": "code",
   "execution_count": 60,
   "id": "solar-twelve",
   "metadata": {},
   "outputs": [],
   "source": [
    "for filename in os.listdir('/'.join([wd,f'cropped/{site_loc}'])):\n",
    "    path = f'/cropped/{site_loc}/'.join([wd,filename])\n",
    "    if path not in list(df_snow['photo_id']):\n",
    "        os.remove(path)\n",
    "    else:\n",
    "        im = Image.open(path)\n",
    "        width, height = im.size\n",
    "        # Setting the points for cropped image\n",
    "        if site_loc == 'W1A':\n",
    "            left = 3000\n",
    "            top = 50\n",
    "            right = 3400\n",
    "            bottom = 0.63*height\n",
    "        elif site_loc == 'W9A':\n",
    "            left = 2100\n",
    "            top = 150\n",
    "            right = 2500\n",
    "            bottom = height - 500\n",
    "        else: break\n",
    "\n",
    "        # Cropped image of above dimension\n",
    "        # (It will not change original image)\n",
    "        im = im.crop((left, top, right, bottom))\n",
    "        im.save(path)"
   ]
  },
  {
   "cell_type": "code",
   "execution_count": 61,
   "id": "alleged-builder",
   "metadata": {},
   "outputs": [],
   "source": [
    "\n",
    "    # Size of the image in pixels (size of original image)\n",
    "    # (This is not mandatory)\n"
   ]
  },
  {
   "cell_type": "code",
   "execution_count": 1,
   "id": "taken-moisture",
   "metadata": {},
   "outputs": [
    {
     "ename": "ModuleNotFoundError",
     "evalue": "No module named 'cv2'",
     "output_type": "error",
     "traceback": [
      "\u001b[0;31m---------------------------------------------------------------------------\u001b[0m",
      "\u001b[0;31mModuleNotFoundError\u001b[0m                       Traceback (most recent call last)",
      "\u001b[0;32m<ipython-input-1-431a3fe99dc2>\u001b[0m in \u001b[0;36m<module>\u001b[0;34m\u001b[0m\n\u001b[0;32m----> 1\u001b[0;31m \u001b[0;32mimport\u001b[0m \u001b[0mcv2\u001b[0m\u001b[0;34m\u001b[0m\u001b[0;34m\u001b[0m\u001b[0m\n\u001b[0m\u001b[1;32m      2\u001b[0m \u001b[0;32mfrom\u001b[0m \u001b[0mkeras\u001b[0m\u001b[0;34m.\u001b[0m\u001b[0mmodels\u001b[0m \u001b[0;32mimport\u001b[0m \u001b[0mSequential\u001b[0m\u001b[0;34m,\u001b[0m\u001b[0mload_model\u001b[0m\u001b[0;34m,\u001b[0m\u001b[0mModel\u001b[0m\u001b[0;34m\u001b[0m\u001b[0;34m\u001b[0m\u001b[0m\n\u001b[1;32m      3\u001b[0m \u001b[0;32mfrom\u001b[0m \u001b[0mkeras\u001b[0m\u001b[0;34m.\u001b[0m\u001b[0mlayers\u001b[0m \u001b[0;32mimport\u001b[0m \u001b[0mConv2D\u001b[0m\u001b[0;34m,\u001b[0m\u001b[0mMaxPool2D\u001b[0m\u001b[0;34m,\u001b[0m\u001b[0mDense\u001b[0m\u001b[0;34m,\u001b[0m\u001b[0mDropout\u001b[0m\u001b[0;34m,\u001b[0m\u001b[0mBatchNormalization\u001b[0m\u001b[0;34m,\u001b[0m\u001b[0mFlatten\u001b[0m\u001b[0;34m,\u001b[0m\u001b[0mInput\u001b[0m\u001b[0;34m\u001b[0m\u001b[0;34m\u001b[0m\u001b[0m\n\u001b[1;32m      4\u001b[0m \u001b[0;32mfrom\u001b[0m \u001b[0msklearn\u001b[0m\u001b[0;34m.\u001b[0m\u001b[0mmodel_selection\u001b[0m \u001b[0;32mimport\u001b[0m \u001b[0mtrain_test_split\u001b[0m\u001b[0;34m\u001b[0m\u001b[0;34m\u001b[0m\u001b[0m\n\u001b[1;32m      5\u001b[0m \u001b[0mpixels\u001b[0m \u001b[0;34m=\u001b[0m \u001b[0;34m[\u001b[0m\u001b[0;34m]\u001b[0m\u001b[0;34m\u001b[0m\u001b[0;34m\u001b[0m\u001b[0m\n",
      "\u001b[0;31mModuleNotFoundError\u001b[0m: No module named 'cv2'"
     ]
    }
   ],
   "source": []
  },
  {
   "cell_type": "code",
   "execution_count": null,
   "id": "treated-dance",
   "metadata": {},
   "outputs": [],
   "source": []
  }
 ],
 "metadata": {
  "kernelspec": {
   "display_name": "Python 3",
   "language": "python",
   "name": "python3"
  },
  "language_info": {
   "codemirror_mode": {
    "name": "ipython",
    "version": 3
   },
   "file_extension": ".py",
   "mimetype": "text/x-python",
   "name": "python",
   "nbconvert_exporter": "python",
   "pygments_lexer": "ipython3",
   "version": "3.8.8"
  }
 },
 "nbformat": 4,
 "nbformat_minor": 5
}
