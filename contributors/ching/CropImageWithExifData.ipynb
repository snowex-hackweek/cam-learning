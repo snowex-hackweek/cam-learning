{
 "cells": [
  {
   "cell_type": "code",
   "execution_count": 4,
   "id": "crucial-radiation",
   "metadata": {},
   "outputs": [
    {
     "ename": "SyntaxError",
     "evalue": "invalid syntax (<ipython-input-4-8091fe70b23c>, line 3)",
     "output_type": "error",
     "traceback": [
      "\u001b[0;36m  File \u001b[0;32m\"<ipython-input-4-8091fe70b23c>\"\u001b[0;36m, line \u001b[0;32m3\u001b[0m\n\u001b[0;31m    pip install piexif\u001b[0m\n\u001b[0m        ^\u001b[0m\n\u001b[0;31mSyntaxError\u001b[0m\u001b[0;31m:\u001b[0m invalid syntax\n"
     ]
    }
   ],
   "source": [
    "# piexif is a library to save exif data"
   ]
  },
  {
   "cell_type": "code",
   "execution_count": 5,
   "id": "tamil-counter",
   "metadata": {},
   "outputs": [
    {
     "name": "stdout",
     "output_type": "stream",
     "text": [
      "Requirement already satisfied: piexif in /srv/conda/envs/notebook/lib/python3.8/site-packages (1.1.3)\n",
      "Note: you may need to restart the kernel to use updated packages.\n"
     ]
    }
   ],
   "source": [
    "\n",
    "pip install piexif"
   ]
  },
  {
   "cell_type": "code",
   "execution_count": 7,
   "id": "controlling-lotus",
   "metadata": {},
   "outputs": [
    {
     "name": "stdout",
     "output_type": "stream",
     "text": [
      "Current WD: /home/jovyan/cam-learning/contributors/ching\n"
     ]
    }
   ],
   "source": [
    "import snowexsql.db\n",
    "from snowexsql.db import get_db\n",
    "from snowexsql.data import PointData, SiteData\n",
    "from snowexsql.conversions import query_to_geopandas\n",
    "\n",
    "import geopandas as gpd\n",
    "import matplotlib.pyplot as plt\n",
    "import pandas as pd\n",
    "import numpy as np\n",
    "from datetime import datetime\n",
    "\n",
    "import os, sys\n",
    "\n",
    "from PIL import Image, ExifTags\n",
    "import os\n",
    "import piexif\n",
    "wd = os.getcwd()\n",
    "print(\"Current WD: {}\".format(wd))"
   ]
  },
  {
   "cell_type": "code",
   "execution_count": null,
   "id": "south-syria",
   "metadata": {},
   "outputs": [],
   "source": []
  },
  {
   "cell_type": "code",
   "execution_count": 8,
   "id": "racial-myanmar",
   "metadata": {},
   "outputs": [],
   "source": [
    "# used another output suprpession found here: https://www.codeforests.com/2020/11/05/python-suppress-stdout-and-stderr/\n",
    "\n",
    "class suppress_output:\n",
    "    def __init__(self, suppress_stdout=False, suppress_stderr=False):\n",
    "        self.suppress_stdout = suppress_stdout\n",
    "        self.suppress_stderr = suppress_stderr\n",
    "        self._stdout = None\n",
    "        self._stderr = None\n",
    "\n",
    "    def __enter__(self):\n",
    "        devnull = open(os.devnull, \"w\")\n",
    "        if self.suppress_stdout:\n",
    "            self._stdout = sys.stdout\n",
    "            sys.stdout = devnull\n",
    "\n",
    "        if self.suppress_stderr:\n",
    "            self._stderr = sys.stderr\n",
    "            sys.stderr = devnull\n",
    "\n",
    "    def __exit__(self, *args):\n",
    "        if self.suppress_stdout:\n",
    "            sys.stdout = self._stdout\n",
    "        if self.suppress_stderr:\n",
    "            sys.stderr = self._stderr\n",
    "            \n",
    "with suppress_output(suppress_stdout=True, suppress_stderr=False):\n",
    "    !aws s3 sync --no-progress s3://snowex-data/tutorial-data/camera-trap/ ./cropped"
   ]
  },
  {
   "cell_type": "code",
   "execution_count": 9,
   "id": "sustained-toner",
   "metadata": {},
   "outputs": [],
   "source": [
    "# Connect to the database\n",
    "db_name = 'snow:hackweek@52.32.183.144/snowex'\n",
    "engine, session = get_db(db_name)\n",
    "\n",
    "# Grab all the point data that was that was measured with a camera-trap\n",
    "qry = session.query(PointData)\n",
    "qry = qry.filter(PointData.instrument == 'camera-trap')\n",
    "\n",
    "# Convert it to a geopandas df\n",
    "camera_depths = query_to_geopandas(qry, engine)\n",
    "\n",
    "# Grab all the unique pits geometry objects (locations)\n",
    "qry = session.query(SiteData.geom).distinct()\n",
    "pits = query_to_geopandas(qry, engine)\n",
    "\n",
    "# End our database session to avoid hanging transactions\n",
    "session.close()"
   ]
  },
  {
   "cell_type": "code",
   "execution_count": 10,
   "id": "naval-threat",
   "metadata": {},
   "outputs": [],
   "source": [
    "from datetime import datetime\n",
    "# Grab the open site data from the db\n",
    "open_site = 'W1A'\n",
    "veg_site = 'W9A'\n",
    "qry = session.query(PointData).filter(PointData.equipment.contains(open_site))\n",
    "df_open = query_to_geopandas(qry,engine)\n",
    "\n",
    "# Grab the vegetated site from the db\n",
    "qry = session.query(PointData).filter(PointData.equipment.contains(veg_site))\n",
    "df_veg = query_to_geopandas(qry,engine)\n",
    "\n",
    "df_veg['datetime'] = [datetime.combine(df_veg['date'][i],df_veg['time'][i]).replace(tzinfo=None) for i in range(len(df_veg))]\n",
    "df_open['datetime'] = [datetime.combine(df_open['date'][i],df_open['time'][i]).replace(tzinfo=None) for i in range(len(df_open))]\n",
    "df_tomerge = df_open[['date','datetime','value']]"
   ]
  },
  {
   "cell_type": "code",
   "execution_count": 20,
   "id": "israeli-balance",
   "metadata": {},
   "outputs": [
    {
     "name": "stdout",
     "output_type": "stream",
     "text": [
      "338\n"
     ]
    }
   ],
   "source": [
    "site_loc = 'W1A'\n",
    "path, dirs, files = next(os.walk('/'.join([wd,f\"cropped/{site_loc}\"])))\n",
    "file_count = len(files)\n",
    "image_data = []\n",
    "\n",
    "print(file_count)"
   ]
  },
  {
   "cell_type": "code",
   "execution_count": 21,
   "id": "growing-faculty",
   "metadata": {},
   "outputs": [
    {
     "data": {
      "text/html": [
       "<div>\n",
       "<style scoped>\n",
       "    .dataframe tbody tr th:only-of-type {\n",
       "        vertical-align: middle;\n",
       "    }\n",
       "\n",
       "    .dataframe tbody tr th {\n",
       "        vertical-align: top;\n",
       "    }\n",
       "\n",
       "    .dataframe thead th {\n",
       "        text-align: right;\n",
       "    }\n",
       "</style>\n",
       "<table border=\"1\" class=\"dataframe\">\n",
       "  <thead>\n",
       "    <tr style=\"text-align: right;\">\n",
       "      <th></th>\n",
       "      <th>photo_id</th>\n",
       "      <th>datetime</th>\n",
       "    </tr>\n",
       "    <tr>\n",
       "      <th>date</th>\n",
       "      <th></th>\n",
       "      <th></th>\n",
       "    </tr>\n",
       "  </thead>\n",
       "  <tbody>\n",
       "    <tr>\n",
       "      <th>2020-04-10</th>\n",
       "      <td>/home/jovyan/cam-learning/contributors/ching/c...</td>\n",
       "      <td>2020-04-10 11:00:00</td>\n",
       "    </tr>\n",
       "    <tr>\n",
       "      <th>2020-05-10</th>\n",
       "      <td>/home/jovyan/cam-learning/contributors/ching/c...</td>\n",
       "      <td>2020-05-10 12:00:00</td>\n",
       "    </tr>\n",
       "    <tr>\n",
       "      <th>2020-05-18</th>\n",
       "      <td>/home/jovyan/cam-learning/contributors/ching/c...</td>\n",
       "      <td>2020-05-18 12:00:00</td>\n",
       "    </tr>\n",
       "    <tr>\n",
       "      <th>2020-01-31</th>\n",
       "      <td>/home/jovyan/cam-learning/contributors/ching/c...</td>\n",
       "      <td>2020-01-31 12:00:00</td>\n",
       "    </tr>\n",
       "    <tr>\n",
       "      <th>2019-12-08</th>\n",
       "      <td>/home/jovyan/cam-learning/contributors/ching/c...</td>\n",
       "      <td>2019-12-08 12:00:00</td>\n",
       "    </tr>\n",
       "  </tbody>\n",
       "</table>\n",
       "</div>"
      ],
      "text/plain": [
       "                                                     photo_id  \\\n",
       "date                                                            \n",
       "2020-04-10  /home/jovyan/cam-learning/contributors/ching/c...   \n",
       "2020-05-10  /home/jovyan/cam-learning/contributors/ching/c...   \n",
       "2020-05-18  /home/jovyan/cam-learning/contributors/ching/c...   \n",
       "2020-01-31  /home/jovyan/cam-learning/contributors/ching/c...   \n",
       "2019-12-08  /home/jovyan/cam-learning/contributors/ching/c...   \n",
       "\n",
       "                      datetime  \n",
       "date                            \n",
       "2020-04-10 2020-04-10 11:00:00  \n",
       "2020-05-10 2020-05-10 12:00:00  \n",
       "2020-05-18 2020-05-18 12:00:00  \n",
       "2020-01-31 2020-01-31 12:00:00  \n",
       "2019-12-08 2019-12-08 12:00:00  "
      ]
     },
     "execution_count": 21,
     "metadata": {},
     "output_type": "execute_result"
    }
   ],
   "source": [
    "for i,file in enumerate(files):\n",
    "    # save image path\n",
    "    filename = f'/cropped/{site_loc}/'.join([wd,file])\n",
    "    # open image file and extract metadat\n",
    "    img = Image.open(filename) \n",
    "    exif = { ExifTags.TAGS[k]: v for k, v in img._getexif().items() if k in ExifTags.TAGS }\n",
    "    # convert date and time to datetime\n",
    "    exif['DateTime'] = datetime.strptime(exif['DateTime'],'%Y:%m:%d %H:%M:%S')\n",
    "    # append list of tuples (not sure if this is any more efficient)\n",
    "    image_data.append((exif['DateTime'].date(), filename, exif['DateTime']))\n",
    "# create image dataframe    \n",
    "\n",
    "\n",
    " \n",
    "# Shows the image in image viewer\n",
    "df = pd.DataFrame(image_data,columns=['date','photo_id','datetime']).set_index('date')\n",
    "df = pd.DataFrame(image_data,columns=['date','photo_id','datetime']).set_index('date')\n",
    "df.head()"
   ]
  },
  {
   "cell_type": "code",
   "execution_count": 22,
   "id": "major-colony",
   "metadata": {},
   "outputs": [
    {
     "data": {
      "text/plain": [
       "251    /home/jovyan/cam-learning/contributors/ching/c...\n",
       "157    /home/jovyan/cam-learning/contributors/ching/c...\n",
       "198    /home/jovyan/cam-learning/contributors/ching/c...\n",
       "97     /home/jovyan/cam-learning/contributors/ching/c...\n",
       "256    /home/jovyan/cam-learning/contributors/ching/c...\n",
       "                             ...                        \n",
       "323    /home/jovyan/cam-learning/contributors/ching/c...\n",
       "238    /home/jovyan/cam-learning/contributors/ching/c...\n",
       "184    /home/jovyan/cam-learning/contributors/ching/c...\n",
       "207    /home/jovyan/cam-learning/contributors/ching/c...\n",
       "242    /home/jovyan/cam-learning/contributors/ching/c...\n",
       "Name: photo_id, Length: 338, dtype: object"
      ]
     },
     "execution_count": 22,
     "metadata": {},
     "output_type": "execute_result"
    }
   ],
   "source": [
    "df_snow = df.merge(df_tomerge, on='datetime', how='left')\n",
    "df_snow = df_snow.rename(columns={'value':'depth'})\n",
    "df_snow = df_snow[~df_snow['depth'].isnull()]\n",
    "df_snow['depth'] = df_snow['depth'].clip(lower=0)\n",
    "df_snow = df_snow.sort_values(by=['date'])\n",
    "df_snow = df_snow.reindex()\n",
    "df_snow['photo_id']"
   ]
  },
  {
   "cell_type": "code",
   "execution_count": 23,
   "id": "existing-aquatic",
   "metadata": {},
   "outputs": [
    {
     "ename": "IsADirectoryError",
     "evalue": "[Errno 21] Is a directory: '/home/jovyan/cam-learning/contributors/ching/cropped/W1A/.ipynb_checkpoints'",
     "output_type": "error",
     "traceback": [
      "\u001b[0;31m---------------------------------------------------------------------------\u001b[0m",
      "\u001b[0;31mIsADirectoryError\u001b[0m                         Traceback (most recent call last)",
      "\u001b[0;32m<ipython-input-23-8aafec420f67>\u001b[0m in \u001b[0;36m<module>\u001b[0;34m\u001b[0m\n\u001b[1;32m      2\u001b[0m     \u001b[0mpath\u001b[0m \u001b[0;34m=\u001b[0m \u001b[0;34mf'/cropped/{site_loc}/'\u001b[0m\u001b[0;34m.\u001b[0m\u001b[0mjoin\u001b[0m\u001b[0;34m(\u001b[0m\u001b[0;34m[\u001b[0m\u001b[0mwd\u001b[0m\u001b[0;34m,\u001b[0m\u001b[0mfilename\u001b[0m\u001b[0;34m]\u001b[0m\u001b[0;34m)\u001b[0m\u001b[0;34m\u001b[0m\u001b[0;34m\u001b[0m\u001b[0m\n\u001b[1;32m      3\u001b[0m     \u001b[0;32mif\u001b[0m \u001b[0mpath\u001b[0m \u001b[0;32mnot\u001b[0m \u001b[0;32min\u001b[0m \u001b[0mlist\u001b[0m\u001b[0;34m(\u001b[0m\u001b[0mdf_snow\u001b[0m\u001b[0;34m[\u001b[0m\u001b[0;34m'photo_id'\u001b[0m\u001b[0;34m]\u001b[0m\u001b[0;34m)\u001b[0m\u001b[0;34m:\u001b[0m\u001b[0;34m\u001b[0m\u001b[0;34m\u001b[0m\u001b[0m\n\u001b[0;32m----> 4\u001b[0;31m         \u001b[0mos\u001b[0m\u001b[0;34m.\u001b[0m\u001b[0mremove\u001b[0m\u001b[0;34m(\u001b[0m\u001b[0mpath\u001b[0m\u001b[0;34m)\u001b[0m\u001b[0;34m\u001b[0m\u001b[0;34m\u001b[0m\u001b[0m\n\u001b[0m\u001b[1;32m      5\u001b[0m     \u001b[0;32melse\u001b[0m\u001b[0;34m:\u001b[0m\u001b[0;34m\u001b[0m\u001b[0;34m\u001b[0m\u001b[0m\n\u001b[1;32m      6\u001b[0m         \u001b[0mim\u001b[0m \u001b[0;34m=\u001b[0m \u001b[0mImage\u001b[0m\u001b[0;34m.\u001b[0m\u001b[0mopen\u001b[0m\u001b[0;34m(\u001b[0m\u001b[0mpath\u001b[0m\u001b[0;34m)\u001b[0m\u001b[0;34m\u001b[0m\u001b[0;34m\u001b[0m\u001b[0m\n",
      "\u001b[0;31mIsADirectoryError\u001b[0m: [Errno 21] Is a directory: '/home/jovyan/cam-learning/contributors/ching/cropped/W1A/.ipynb_checkpoints'"
     ]
    }
   ],
   "source": [
    "for filename in os.listdir('/'.join([wd,f'cropped/{site_loc}'])):\n",
    "    path = f'/cropped/{site_loc}/'.join([wd,filename])\n",
    "    if path not in list(df_snow['photo_id']):\n",
    "        os.remove(path)\n",
    "    else:\n",
    "        im = Image.open(path)\n",
    "        \n",
    "        #load exif data\n",
    "        exif_dict = piexif.load(im.info[\"exif\"])\n",
    "        exif_bytes = piexif.dump(exif_dict)\n",
    "        \n",
    "        width, height = im.size\n",
    "        # Setting the points for cropped image\n",
    "        if site_loc == 'W1A':\n",
    "            left = 3000\n",
    "            top = 50\n",
    "            right = 3400\n",
    "            bottom = 0.63*height\n",
    "        elif site_loc == 'W9A':\n",
    "            left = 2100\n",
    "            top = 150\n",
    "            right = 2500\n",
    "            bottom = height - 500\n",
    "        else: break\n",
    "\n",
    "        # Cropped image of above dimension\n",
    "        # (It will not change original image)\n",
    "        im = im.crop((left, top, right, bottom))\n",
    "        \n",
    "        # Save cropped images with exif data\n",
    "        im.save(path, exif = exif_bytes)"
   ]
  },
  {
   "cell_type": "code",
   "execution_count": 15,
   "id": "korean-methodology",
   "metadata": {},
   "outputs": [
    {
     "name": "stdout",
     "output_type": "stream",
     "text": [
      "\n",
      "*GPSInfo\n",
      "*PrintImageMatching\n",
      "*ResolutionUnit\n",
      "*ExifOffset\n",
      "*ImageDescription\n",
      "*Make\n",
      "*Model\n",
      "*Software\n",
      "*Orientation\n",
      "*DateTime\n",
      "*YCbCrPositioning\n",
      "*Copyright\n",
      "*XResolution\n",
      "*YResolution\n",
      "*ExifVersion\n",
      "*ComponentsConfiguration\n",
      "*CompressedBitsPerPixel\n",
      "*DateTimeOriginal\n",
      "*DateTimeDigitized\n",
      "*ShutterSpeedValue\n",
      "*ApertureValue\n",
      "*ExposureBiasValue\n",
      "*MaxApertureValue\n",
      "*MeteringMode\n",
      "*LightSource\n",
      "*Flash\n",
      "*FocalLength\n",
      "*ColorSpace\n",
      "*ExifImageWidth\n",
      "*SceneCaptureType\n",
      "*ExifImageHeight\n",
      "*Contrast\n",
      "*Saturation\n",
      "*Sharpness\n",
      "*SensingMethod\n",
      "*FileSource\n",
      "*ExposureTime\n",
      "*ExifInteroperabilityOffset\n",
      "*FNumber\n",
      "*SceneType\n",
      "*ExposureProgram\n",
      "*CustomRendered\n",
      "*ISOSpeedRatings\n",
      "*ExposureMode\n",
      "*FlashPixVersion\n",
      "*WhiteBalance\n",
      "*DigitalZoomRatio\n",
      "*CameraOwnerName\n",
      "*BodySerialNumber\n",
      "*FocalLengthIn35mmFilm\n",
      "*LensSpecification\n",
      "*LensMake\n",
      "*LensModel\n",
      "*LensSerialNumber\n",
      "*MakerNote\n"
     ]
    }
   ],
   "source": [
    "path_to_image = \"/home/jovyan/cam-learning/contributors/ching/cropped/W1A/WSCT0014.JPG\"\n",
    "\n",
    "\n",
    "img = Image.open(path_to_image)\n",
    "exif = { ExifTags.TAGS[k]: v for k, v in img._getexif().items() if k in ExifTags.TAGS }\n",
    "keys = list(exif.keys())\n",
    "print('\\n*{}'.format('\\n*'.join(keys)))"
   ]
  },
  {
   "cell_type": "code",
   "execution_count": null,
   "id": "pharmaceutical-willow",
   "metadata": {},
   "outputs": [],
   "source": []
  }
 ],
 "metadata": {
  "kernelspec": {
   "display_name": "Python 3",
   "language": "python",
   "name": "python3"
  },
  "language_info": {
   "codemirror_mode": {
    "name": "ipython",
    "version": 3
   },
   "file_extension": ".py",
   "mimetype": "text/x-python",
   "name": "python",
   "nbconvert_exporter": "python",
   "pygments_lexer": "ipython3",
   "version": "3.8.8"
  }
 },
 "nbformat": 4,
 "nbformat_minor": 5
}
