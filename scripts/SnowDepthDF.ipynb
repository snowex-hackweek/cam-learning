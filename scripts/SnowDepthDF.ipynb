{
 "cells": [
  {
   "cell_type": "code",
   "execution_count": 1,
   "id": "crucial-explanation",
   "metadata": {},
   "outputs": [],
   "source": [
    "# Import the function to get connect to the db\n",
    "from snowexsql.db import get_db\n",
    "\n",
    "# This is what you will use for all of hackweek to access the db\n",
    "db_name = 'snow:hackweek@52.32.183.144/snowex'\n",
    "\n",
    "# Using the function get_db, we receive 2 ways to interact with the database\n",
    "engine, session = get_db(db_name)"
   ]
  },
  {
   "cell_type": "code",
   "execution_count": 61,
   "id": "weekly-documentary",
   "metadata": {},
   "outputs": [
    {
     "name": "stdout",
     "output_type": "stream",
     "text": [
      "These are the available columns in the table:\n",
      " \n",
      "* date\n",
      "* date_accessed\n",
      "* doi\n",
      "* easting\n",
      "* elevation\n",
      "* equipment\n",
      "* geom\n",
      "* instrument\n",
      "* latitude\n",
      "* longitude\n",
      "* metadata\n",
      "* northing\n",
      "* site_id\n",
      "* site_name\n",
      "* surveyors\n",
      "* time\n",
      "* time_created\n",
      "* time_updated\n",
      "* type\n",
      "* units\n",
      "* utm_zone\n",
      "* value\n",
      "* version_number\n",
      "\n"
     ]
    }
   ],
   "source": [
    "# Import the class reflecting the points table in the db\n",
    "from snowexsql.data import PointData\n",
    "\n",
    "# Import the function to investigate a table\n",
    "from snowexsql.db import get_table_attributes\n",
    "\n",
    "# Use the function to see what columns are available to use. \n",
    "db_columns = get_table_attributes(PointData)\n",
    "\n",
    "# Print out the results nicely\n",
    "print(\"These are the available columns in the table:\\n \\n* {}\\n\".format('\\n* '.join(db_columns)))"
   ]
  },
  {
   "cell_type": "code",
   "execution_count": 24,
   "id": "banner-cologne",
   "metadata": {},
   "outputs": [
    {
     "name": "stdout",
     "output_type": "stream",
     "text": [
      "             site_name                     time_created time_updated       id  \\\n",
      "date                                                                            \n",
      "2019-09-29  Grand Mesa 2021-07-12 18:40:01.306861+00:00         None  4195274   \n",
      "\n",
      "           site_id   doi date_accessed instrument   type units  ...  \\\n",
      "date                                                            ...   \n",
      "2019-09-29    None  None    2021-07-12     camera  depth    cm  ...   \n",
      "\n",
      "             longitude      northing        easting  elevation  utm_zone  \\\n",
      "date                                                                       \n",
      "2019-09-29 -108.161851  4.324628e+06  745655.971368       None        12   \n",
      "\n",
      "                                      geom            time version_number  \\\n",
      "date                                                                        \n",
      "2019-09-29  POINT (745655.971 4324628.335)  11:00:00-06:00           None   \n",
      "\n",
      "                  equipment    value  \n",
      "date                                  \n",
      "2019-09-29  camera id = W9A  0.00391  \n",
      "\n",
      "[1 rows x 22 columns]\n"
     ]
    }
   ],
   "source": [
    "import snowexsql.db\n",
    "from snowexsql.db import get_db\n",
    "from snowexsql.data import PointData, SiteData\n",
    "from snowexsql.conversions import query_to_geopandas\n",
    "\n",
    "import geopandas as gpd\n",
    "import matplotlib.pyplot as plt\n",
    "import pandas as pd\n",
    "import datetime as dt\n",
    "\n",
    "# Grab the open site data from the db\n",
    "open_site = 'W1A'\n",
    "veg_site = 'W9A'\n",
    "qry = session.query(PointData).filter(PointData.equipment.contains(open_site))\n",
    "df_open = query_to_geopandas(qry,engine)\n",
    "\n",
    "# Grab the vegetated site from the db\n",
    "qry = session.query(PointData).filter(PointData.equipment.contains(veg_site))\n",
    "df_veg = query_to_geopandas(qry,engine)\n",
    "\n",
    "# Set the date as the index for easy plotting/reading\n",
    "df_open = df_open.set_index('date')\n",
    "df_veg = df_veg.set_index('date')"
   ]
  },
  {
   "cell_type": "code",
   "execution_count": 27,
   "id": "inside-demand",
   "metadata": {},
   "outputs": [
    {
     "name": "stdout",
     "output_type": "stream",
     "text": [
      "Current WD /home/jovyan/cam-learning/scripts\n"
     ]
    }
   ],
   "source": [
    "from PIL import Image, ExifTags\n",
    "import os\n",
    "wd = os.getcwd()\n",
    "print(\"Current WD: {}\".format(wd))"
   ]
  },
  {
   "cell_type": "code",
   "execution_count": 98,
   "id": "hundred-technician",
   "metadata": {},
   "outputs": [
    {
     "name": "stdout",
     "output_type": "stream",
     "text": [
      "\n",
      "*GPSInfo\n",
      "*PrintImageMatching\n",
      "*ResolutionUnit\n",
      "*ExifOffset\n",
      "*ImageDescription\n",
      "*Make\n",
      "*Model\n",
      "*Software\n",
      "*Orientation\n",
      "*DateTime\n",
      "*YCbCrPositioning\n",
      "*Copyright\n",
      "*XResolution\n",
      "*YResolution\n",
      "*ExifVersion\n",
      "*ComponentsConfiguration\n",
      "*CompressedBitsPerPixel\n",
      "*DateTimeOriginal\n",
      "*DateTimeDigitized\n",
      "*ShutterSpeedValue\n",
      "*ApertureValue\n",
      "*ExposureBiasValue\n",
      "*MaxApertureValue\n",
      "*MeteringMode\n",
      "*LightSource\n",
      "*Flash\n",
      "*FocalLength\n",
      "*ColorSpace\n",
      "*ExifImageWidth\n",
      "*SceneCaptureType\n",
      "*ExifImageHeight\n",
      "*Contrast\n",
      "*Saturation\n",
      "*Sharpness\n",
      "*SensingMethod\n",
      "*FileSource\n",
      "*ExposureTime\n",
      "*ExifInteroperabilityOffset\n",
      "*FNumber\n",
      "*SceneType\n",
      "*ExposureProgram\n",
      "*CustomRendered\n",
      "*ISOSpeedRatings\n",
      "*ExposureMode\n",
      "*FlashPixVersion\n",
      "*WhiteBalance\n",
      "*DigitalZoomRatio\n",
      "*CameraOwnerName\n",
      "*BodySerialNumber\n",
      "*FocalLengthIn35mmFilm\n",
      "*LensSpecification\n",
      "*LensMake\n",
      "*LensModel\n",
      "*LensSerialNumber\n",
      "*MakerNote\n"
     ]
    }
   ],
   "source": [
    "path_to_image = \"/tmp/W9A/WSCT0660.JPG\"\n",
    "img = Image.open('/'.join([wd,path_to_image])) \n",
    "exif = { ExifTags.TAGS[k]: v for k, v in img._getexif().items() if k in ExifTags.TAGS }\n",
    "keys = list(exif.keys())\n",
    "print('\\n*{}'.format('\\n*'.join(keys)))"
   ]
  },
  {
   "cell_type": "markdown",
   "id": "organized-local",
   "metadata": {},
   "source": [
    "Create a function to parse through all images. Save as dataframe with name of photo, date, and time. Then add SWE data by joining on dates+times. At that point we have images submit this to train."
   ]
  },
  {
   "cell_type": "code",
   "execution_count": 99,
   "id": "individual-orbit",
   "metadata": {},
   "outputs": [
    {
     "name": "stdout",
     "output_type": "stream",
     "text": [
      "2020-08-17 12:00:00\n"
     ]
    }
   ],
   "source": [
    "from datetime import datetime\n",
    "exif['DateTime'] = datetime.strptime(exif['DateTime'],'%Y:%m:%d %H:%M:%S')\n",
    "print(exif['DateTime'])\n"
   ]
  },
  {
   "cell_type": "code",
   "execution_count": 94,
   "id": "narrative-runner",
   "metadata": {},
   "outputs": [],
   "source": [
    "df = pd.DataFrame([],\n",
    "                   columns=['date','photo_id','time'])\n",
    "df.loc[0]= [exif['DateTime'].date(),\n",
    "                   path_to_image,\n",
    "                   exif['DateTime'].time()]"
   ]
  },
  {
   "cell_type": "code",
   "execution_count": 95,
   "id": "lined-upset",
   "metadata": {},
   "outputs": [
    {
     "data": {
      "text/html": [
       "<div>\n",
       "<style scoped>\n",
       "    .dataframe tbody tr th:only-of-type {\n",
       "        vertical-align: middle;\n",
       "    }\n",
       "\n",
       "    .dataframe tbody tr th {\n",
       "        vertical-align: top;\n",
       "    }\n",
       "\n",
       "    .dataframe thead th {\n",
       "        text-align: right;\n",
       "    }\n",
       "</style>\n",
       "<table border=\"1\" class=\"dataframe\">\n",
       "  <thead>\n",
       "    <tr style=\"text-align: right;\">\n",
       "      <th></th>\n",
       "      <th>date</th>\n",
       "      <th>photo_id</th>\n",
       "      <th>time</th>\n",
       "    </tr>\n",
       "  </thead>\n",
       "  <tbody>\n",
       "    <tr>\n",
       "      <th>0</th>\n",
       "      <td>2020-08-17</td>\n",
       "      <td>/tmp/W9A/WSCT0660.JPG</td>\n",
       "      <td>00:00:00</td>\n",
       "    </tr>\n",
       "  </tbody>\n",
       "</table>\n",
       "</div>"
      ],
      "text/plain": [
       "         date               photo_id      time\n",
       "0  2020-08-17  /tmp/W9A/WSCT0660.JPG  00:00:00"
      ]
     },
     "execution_count": 95,
     "metadata": {},
     "output_type": "execute_result"
    }
   ],
   "source": [
    "df"
   ]
  },
  {
   "cell_type": "code",
   "execution_count": 1,
   "id": "overhead-height",
   "metadata": {},
   "outputs": [
    {
     "ename": "NameError",
     "evalue": "name 'session' is not defined",
     "output_type": "error",
     "traceback": [
      "\u001b[0;31m---------------------------------------------------------------------------\u001b[0m",
      "\u001b[0;31mNameError\u001b[0m                                 Traceback (most recent call last)",
      "\u001b[0;32m<ipython-input-1-830149a6863a>\u001b[0m in \u001b[0;36m<module>\u001b[0;34m\u001b[0m\n\u001b[0;32m----> 1\u001b[0;31m \u001b[0msession\u001b[0m\u001b[0;34m.\u001b[0m\u001b[0mclose\u001b[0m\u001b[0;34m(\u001b[0m\u001b[0;34m)\u001b[0m\u001b[0;34m\u001b[0m\u001b[0;34m\u001b[0m\u001b[0m\n\u001b[0m",
      "\u001b[0;31mNameError\u001b[0m: name 'session' is not defined"
     ]
    }
   ],
   "source": [
    "session.close()"
   ]
  },
  {
   "cell_type": "code",
   "execution_count": null,
   "id": "seasonal-accident",
   "metadata": {},
   "outputs": [],
   "source": []
  }
 ],
 "metadata": {
  "kernelspec": {
   "display_name": "Python 3",
   "language": "python",
   "name": "python3"
  },
  "language_info": {
   "codemirror_mode": {
    "name": "ipython",
    "version": 3
   },
   "file_extension": ".py",
   "mimetype": "text/x-python",
   "name": "python",
   "nbconvert_exporter": "python",
   "pygments_lexer": "ipython3",
   "version": "3.8.8"
  }
 },
 "nbformat": 4,
 "nbformat_minor": 5
}
